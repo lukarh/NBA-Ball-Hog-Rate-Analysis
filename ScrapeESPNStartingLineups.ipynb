{
 "cells": [
  {
   "cell_type": "code",
   "execution_count": 1,
   "id": "2f24c6d7-c8aa-4124-9a30-204cea1caa1c",
   "metadata": {
    "tags": []
   },
   "outputs": [],
   "source": [
    "import os\n",
    "import time\n",
    "import selenium\n",
    "import pandas as pd\n",
    "\n",
    "from tqdm import tqdm\n",
    "from selenium import webdriver\n",
    "from selenium.webdriver.common.by import By\n",
    "from selenium.webdriver.chrome.options import Options"
   ]
  },
  {
   "cell_type": "code",
   "execution_count": 29,
   "id": "ebe369e8-79bf-4dc8-a166-30c01344d448",
   "metadata": {
    "tags": []
   },
   "outputs": [],
   "source": [
    "def _open_chromedriver(url, download_directory=r'C:\\Users\\lukar\\Desktop\\Sports Analytics\\NBA Ball Handle Rate\\data\\starting-lineups'):\n",
    "    '''\n",
    "    returns browser object of chromedriver with a specified download directory\n",
    "    '''\n",
    "    # create chromeOptions object\n",
    "    chrome_options = Options()\n",
    "    \n",
    "    prefs = {\"download.default_directory\" : download_directory}\n",
    "    chrome_options.add_experimental_option(\"prefs\",prefs)\n",
    "    \n",
    "    browser = webdriver.Chrome(options=chrome_options)\n",
    "    time.sleep(0.5)\n",
    "    \n",
    "    browser.get(url)\n",
    "    time.sleep(0.5)\n",
    "    \n",
    "    return browser\n",
    "\n",
    "def _scrape_espn_starting_lineups(browser, filepath='data/starting-lineups/', season=\"2022-23\"):\n",
    "    # find table parent of the element\n",
    "    table_parent = browser.find_element(By.XPATH, '/html/body/div[1]/div[2]/div/div[2]/div[3]/div[1]/div[1]/div[1]/table')\n",
    "    \n",
    "    # find tbody element within parent\n",
    "    tbody = table_parent.find_element(By.TAG_NAME, 'tbody')\n",
    "    \n",
    "    # iterate over all the table rows & extract cell data; but ignore stathead/colhead\n",
    "    rows = tbody.find_elements(By.XPATH, './tr[not(contains(@class, \"stathead\") or contains(@class, \"colhead\"))]')\n",
    "\n",
    "    columns = ['TEAM','PG','SG','SF','PF','C']\n",
    "    data = []\n",
    "\n",
    "    # iterate over all the table rows and extract cell data text\n",
    "    for row in rows:\n",
    "        # create empty lst to store player data\n",
    "        lineups = []\n",
    "\n",
    "        # get all the cells in the row\n",
    "        cells = row.find_elements(By.TAG_NAME, 'td')\n",
    "\n",
    "        # iterate over the cells and extract the cell text\n",
    "        for cell in cells:\n",
    "            lineups.append(cell.text)\n",
    "\n",
    "        # append player data to list\n",
    "        data.append(lineups)\n",
    "        \n",
    "    lineups_df = pd.DataFrame(data, columns=columns)\n",
    "    \n",
    "    lineups_df.to_csv(filepath + '{}_starting_lineups.csv'.format(season), index=False)"
   ]
  },
  {
   "cell_type": "code",
   "execution_count": 27,
   "id": "b1aec9ab-10dd-4e9a-ad92-68e63f07391a",
   "metadata": {
    "tags": []
   },
   "outputs": [],
   "source": [
    "browser = _open_chromedriver(url=\"http://www.espn.com/nba/depth\")"
   ]
  },
  {
   "cell_type": "code",
   "execution_count": 30,
   "id": "92473c46-5713-48fd-9ac9-318b0133a9ad",
   "metadata": {
    "tags": []
   },
   "outputs": [],
   "source": [
    "_scrape_espn_starting_lineups(browser)"
   ]
  }
 ],
 "metadata": {
  "kernelspec": {
   "display_name": "Python 3 (ipykernel)",
   "language": "python",
   "name": "python3"
  },
  "language_info": {
   "codemirror_mode": {
    "name": "ipython",
    "version": 3
   },
   "file_extension": ".py",
   "mimetype": "text/x-python",
   "name": "python",
   "nbconvert_exporter": "python",
   "pygments_lexer": "ipython3",
   "version": "3.11.3"
  }
 },
 "nbformat": 4,
 "nbformat_minor": 5
}
