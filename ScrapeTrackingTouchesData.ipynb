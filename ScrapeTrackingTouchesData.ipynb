{
 "cells": [
  {
   "cell_type": "markdown",
   "id": "9b387aaa-7aff-42e7-b3a3-1620c2f9c065",
   "metadata": {},
   "source": [
    "#### Imports"
   ]
  },
  {
   "cell_type": "code",
   "execution_count": 2,
   "id": "01c7f29d-f0df-4231-b3ef-620c5e44dfe2",
   "metadata": {
    "tags": []
   },
   "outputs": [],
   "source": [
    "import time\n",
    "import pandas as pd\n",
    "\n",
    "from tqdm import tqdm\n",
    "\n",
    "from nba_api.stats.static import players, teams\n",
    "from nba_api.stats.endpoints import leaguedashptstats"
   ]
  },
  {
   "cell_type": "markdown",
   "id": "22416c47-fa6b-4e55-87cb-4734929e6251",
   "metadata": {},
   "source": [
    "#### Scraping Functions"
   ]
  },
  {
   "cell_type": "code",
   "execution_count": 4,
   "id": "70925f0f-b139-492d-ac7c-b5455aae830c",
   "metadata": {
    "tags": []
   },
   "outputs": [],
   "source": [
    "def _scrape_traded_touches_totals(season_param, player_id, team, start_date='', end_date=''):\n",
    "    '''\n",
    "    returns a dataframe of length one with the total touches a player had for that team during his stint that season using the NBA API\n",
    "    '''\n",
    "    tracking_df = leaguedashptstats.LeagueDashPtStats(season=season_param,\n",
    "                                                      player_or_team='Player',\n",
    "                                                      pt_measure_type='Possessions',\n",
    "                                                      per_mode_simple='Totals',\n",
    "                                                      date_from_nullable=start_date,\n",
    "                                                      date_to_nullable=end_date,\n",
    "                                                     ).get_data_frames()[0]\n",
    "    p_tracking_df = tracking_df[tracking_df['PLAYER_ID'] == player_id].reset_index(drop=True)\n",
    "    p_tracking_df['SEASON'] = season_param\n",
    "    p_tracking_df = p_tracking_df[['PLAYER_ID','PLAYER_NAME','TEAM_ABBREVIATION','TIME_OF_POSS','TOUCHES','FRONT_CT_TOUCHES','AVG_DRIB_PER_TOUCH','SEASON']].copy()\n",
    "    p_tracking_df['TEAM_ABBREVIATION'] = team\n",
    "    return p_tracking_df\n",
    "  \n",
    "def _scrape_touches_total(season_param, filepath, rs):\n",
    "    '''\n",
    "    returns nothing, but interacts with the NBA API and saves a dataframe of tracking/time touches possession data in a local directory\n",
    "    '''\n",
    "    if rs:\n",
    "        tracking_df = leaguedashptstats.LeagueDashPtStats(season=season_param,\n",
    "                                                          player_or_team='Player',\n",
    "                                                          pt_measure_type='Possessions',\n",
    "                                                          per_mode_simple='Totals',\n",
    "                                                         ).get_data_frames()[0]\n",
    "        tracking_df['SEASON'] = season_param\n",
    "        tracking_df = tracking_df[['PLAYER_ID','PLAYER_NAME','TEAM_ABBREVIATION','TIME_OF_POSS','TOUCHES','FRONT_CT_TOUCHES','AVG_DRIB_PER_TOUCH','SEASON']].copy()\n",
    "        tracking_df.to_csv(filepath + '{}_touches_totals.csv'.format(season_param), index=False)\n",
    "    else:\n",
    "        tracking_df = leaguedashptstats.LeagueDashPtStats(season=season_param,\n",
    "                                                          player_or_team='Player',\n",
    "                                                          pt_measure_type='Possessions',\n",
    "                                                          per_mode_simple='Totals',\n",
    "                                                          season_type_all_star='Playoffs'\n",
    "                                                         ).get_data_frames()[0]\n",
    "        tracking_df['SEASON'] = season_param\n",
    "        tracking_df = tracking_df[['PLAYER_ID','PLAYER_NAME','TEAM_ABBREVIATION','TIME_OF_POSS','TOUCHES','FRONT_CT_TOUCHES','AVG_DRIB_PER_TOUCH','SEASON']].copy()\n",
    "        tracking_df.to_csv(filepath + '{}_touches_playoff_totals.csv'.format(season_param), index=False)\n",
    "    \n",
    "def _scrape_traded_seasonal_touches(start_year=2013, end_year=2023, filepath='data/touches/traded-totals/'):\n",
    "    '''\n",
    "    returns nothing, but saves a traded player's tracking/time touches possessions data in a local directory\n",
    "    '''\n",
    "    traded_df = pd.read_csv('data/ids/traded_players_database.csv')\n",
    "    traded_tracking_df = pd.DataFrame()\n",
    "    \n",
    "    for pid, season, start_date, end_date, team in tqdm(zip(traded_df['PLAYER_ID'].to_list(), traded_df['SEASON'].to_list(),\n",
    "                                                            traded_df['START_DATE'].to_list(), traded_df['END_DATE'].to_list(),\n",
    "                                                            traded_df['TEAM'].to_list()\n",
    "                                                  ), total=len(traded_df)):\n",
    "        while True:\n",
    "            try:\n",
    "                temp_df = _scrape_traded_touches_totals(season, pid, team, start_date, end_date)\n",
    "                traded_tracking_df = pd.concat([traded_tracking_df, temp_df]).reset_index(drop=True)\n",
    "                time.sleep(0.65)\n",
    "                break\n",
    "            except:\n",
    "                pass\n",
    "    \n",
    "    season_param = str(start_year) + '-' + str(end_year)[2:]\n",
    "    traded_tracking_df.to_csv(filepath + '{}_traded_touches_totals.csv'.format(season_param), index=False)\n",
    "    \n",
    "def _scrape_seasonal_touches(start_year=2013, end_year=2023, filepath='data/touches/season-totals/', rs=True):\n",
    "    '''\n",
    "    returns nothing, but saves seasonal tracking/time touches possessions data in a local directory\n",
    "    '''\n",
    "    for season in tqdm(range(start_year, end_year)):\n",
    "        season_param = str(season) + '-' + str(season+1)[2:]\n",
    "        _scrape_touches_total(season_param, filepath, rs)\n",
    "        time.sleep(.3)"
   ]
  },
  {
   "cell_type": "markdown",
   "id": "5dfbba71-5b6e-47b7-a7d8-1f2d2338e3c4",
   "metadata": {},
   "source": [
    "#### Call the Scraping Functions & Scrape Data"
   ]
  },
  {
   "cell_type": "code",
   "execution_count": 13,
   "id": "73b39e5c-e454-4050-871a-2317eeda0c4e",
   "metadata": {
    "tags": []
   },
   "outputs": [
    {
     "name": "stderr",
     "output_type": "stream",
     "text": [
      "100%|██████████████████████████████████████████████████████████████████████████████████| 10/10 [00:17<00:00,  1.71s/it]\n"
     ]
    }
   ],
   "source": [
    "_scrape_seasonal_touches()"
   ]
  },
  {
   "cell_type": "code",
   "execution_count": 5,
   "id": "307c09b0-4e4d-4eec-8456-a50d29320007",
   "metadata": {
    "tags": []
   },
   "outputs": [
    {
     "name": "stderr",
     "output_type": "stream",
     "text": [
      "100%|██████████████████████████████████████████████████████████████████████████████████| 10/10 [00:19<00:00,  1.90s/it]\n"
     ]
    }
   ],
   "source": [
    "_scrape_seasonal_touches(filepath='data/touches/playoff-totals/', rs=False)"
   ]
  },
  {
   "cell_type": "code",
   "execution_count": 6,
   "id": "8908ed11-6774-410f-84cc-e6ce688b66bd",
   "metadata": {
    "tags": []
   },
   "outputs": [
    {
     "name": "stderr",
     "output_type": "stream",
     "text": [
      "100%|██████████████████████████████████████████████████████████████████████████████| 1409/1409 [32:31<00:00,  1.39s/it]\n"
     ]
    }
   ],
   "source": [
    "_scrape_traded_seasonal_touches()"
   ]
  }
 ],
 "metadata": {
  "kernelspec": {
   "display_name": "Python 3 (ipykernel)",
   "language": "python",
   "name": "python3"
  },
  "language_info": {
   "codemirror_mode": {
    "name": "ipython",
    "version": 3
   },
   "file_extension": ".py",
   "mimetype": "text/x-python",
   "name": "python",
   "nbconvert_exporter": "python",
   "pygments_lexer": "ipython3",
   "version": "3.11.3"
  }
 },
 "nbformat": 4,
 "nbformat_minor": 5
}
