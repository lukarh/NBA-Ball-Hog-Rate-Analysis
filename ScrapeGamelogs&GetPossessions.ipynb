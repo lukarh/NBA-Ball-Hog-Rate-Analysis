{
 "cells": [
  {
   "cell_type": "markdown",
   "id": "1f8d4756-bd83-434f-90d0-20e1e41d35fa",
   "metadata": {},
   "source": [
    "#### Imports"
   ]
  },
  {
   "cell_type": "code",
   "execution_count": 105,
   "id": "ff8c43e3-2fd6-4137-8cf6-6d3abdff6743",
   "metadata": {
    "tags": []
   },
   "outputs": [],
   "source": [
    "import os\n",
    "import math\n",
    "import time\n",
    "import json\n",
    "import random\n",
    "import datetime\n",
    "import selenium\n",
    "import numpy as np\n",
    "import pandas as pd\n",
    "\n",
    "from tqdm import tqdm\n",
    "from datetime import date\n",
    "from selenium import webdriver\n",
    "from selenium.webdriver.common.by import By\n",
    "from selenium.webdriver.chrome.options import Options\n",
    "\n",
    "from nba_api.stats.static import players, teams\n",
    "from nba_api.stats.endpoints import commonteamroster"
   ]
  },
  {
   "cell_type": "markdown",
   "id": "8c007657-eafe-4532-8f46-1d53fe442695",
   "metadata": {},
   "source": [
    "#### Functions"
   ]
  },
  {
   "cell_type": "code",
   "execution_count": 38,
   "id": "6cc92449-0799-49d3-8046-20f230c1a8e9",
   "metadata": {
    "tags": []
   },
   "outputs": [],
   "source": [
    "def _get_modern_players(start_yr=2013, end_yr=2023):\n",
    "    '''\n",
    "    returns a list of player IDs that played in the modern tracking era\n",
    "    '''\n",
    "    # create dataframe to store rosters\n",
    "    players_df = pd.DataFrame()\n",
    "    team_lst = teams.get_teams()\n",
    "\n",
    "    # iterate through season and teams\n",
    "    for season in tqdm(range(2013, 2023)):\n",
    "        season_param = str(season) + '-' + str(season+1)[2:]\n",
    "\n",
    "        for team in team_lst:\n",
    "            # fetch roster for that team during that specific year\n",
    "            team_id = team['id']\n",
    "            while True:\n",
    "                try:\n",
    "                    temp_df = commonteamroster.CommonTeamRoster(team_id=team_id, \n",
    "                                                                season=season_param\n",
    "                                                               ).get_data_frames()[0]\n",
    "                    players_df = pd.concat([players_df, temp_df]).reset_index(drop=True)\n",
    "                    break\n",
    "                except Exception as e:\n",
    "                    print('An error occurred for the following params {}, {}:'.format(team_id, season_param), e)\n",
    "            time.sleep(0.2)\n",
    "            \n",
    "    return list(players_df['PLAYER_ID'].unique())\n",
    "\n",
    "def _create_ids_database(player_ids):\n",
    "    '''\n",
    "    returns a dataframe of player_ids and their names, as well as saves it to a local directory\n",
    "    '''\n",
    "    player_info = []\n",
    "    players_lst = players.get_players()\n",
    "    \n",
    "    for pid in tqdm(player_ids):\n",
    "        for player in players_lst:\n",
    "            if (player['id'] == pid): \n",
    "                player_info.append([player['full_name'], player['first_name'], player['last_name'], pid])\n",
    "                break\n",
    "\n",
    "    \n",
    "    ids_df = pd.DataFrame(player_info, columns=['PLAYER_NAME','FIRST_NAME','LAST_NAME','PLAYER_ID'])\n",
    "    ids_df.to_csv('data/ids/players_modern_database.csv', index=False)\n",
    "    return ids_df\n",
    "\n",
    "def _open_chromedriver(download_directory=r'C:\\Users\\lukar\\Desktop\\Sports Analytics\\NBA Ball Handle Rate\\data\\gamelogs'):\n",
    "    '''\n",
    "    returns browser object of chromedriver with a specified download directory\n",
    "    '''\n",
    "    # create chromeOptions object\n",
    "    chrome_options = Options()\n",
    "    \n",
    "    prefs = {\"download.default_directory\" : download_directory}\n",
    "    chrome_options.add_experimental_option(\"prefs\",prefs)\n",
    "    \n",
    "    browser = webdriver.Chrome(options=chrome_options)\n",
    "    return browser\n",
    "\n",
    "def _scrape_player_rs_gamelogs(browser, pid, folderpath=\"C:/Users/lukar/Desktop/Sports Analytics/NBA Ball Handle Rate/data/gamelogs/\", start_yr=2013, end_yr=2023):\n",
    "    '''\n",
    "    returns nothing, but downloads a .csv file to a local directory given parameters to a specific URL\n",
    "    '''\n",
    "    url = \"https://www.pbpstats.com/game-logs/nba/player?Season=2022-23,2020-21,2021-22,2019-20,2017-18,2018-19,2016-17,2015-16,2014-15,2013-14&SeasonType=Regular%2BSeason&EntityId={}\".format(pid)\n",
    "    browser.get(url)\n",
    "    time.sleep(8.5)\n",
    "    attempts = 0\n",
    "    \n",
    "    found_link = False\n",
    "    \n",
    "    while True:\n",
    "        try:\n",
    "            try:\n",
    "                csv_link = browser.find_element(By.XPATH, '/html/body/div/div/main/div[4]/div[2]/div[4]/a')\n",
    "                csv_link.click()\n",
    "            except: \n",
    "                csv_link = browser.find_element(By.XPATH, '/html/body/div/div/main/div[4]/div[2]/div[3]/a')\n",
    "                csv_link.click()\n",
    "                \n",
    "            time.sleep(1.2)\n",
    "            found_link = True\n",
    "            \n",
    "            break\n",
    "            \n",
    "        except Exception as e:\n",
    "            # print('Could not find download link, attempting to try again...[Attempt #{}]'.format(attempts))\n",
    "            time.sleep(1.2)\n",
    "            if (attempts == 50):\n",
    "                print('Could not find download link for Player ID: {}'.format(pid))\n",
    "                break\n",
    "            attempts += 1\n",
    "            \n",
    "    if found_link:\n",
    "        old_filename = 'pbpstats_export.csv'\n",
    "        new_filename = '{}_rs_pbp_scoring_gamelog_{}-{}.csv'.format(str(pid), str(start_yr), str(end_yr)[2:])\n",
    "            \n",
    "        old_file_path = os.path.join(folderpath, old_filename)\n",
    "        new_file_path = os.path.join(folderpath, new_filename)\n",
    "        time.sleep(0.2)\n",
    "            \n",
    "        os.rename(old_file_path, new_file_path)\n",
    "        time.sleep(.5)\n",
    "             \n",
    "    return"
   ]
  },
  {
   "cell_type": "markdown",
   "id": "ab2adaa1-70b7-44ec-b8db-27d05d633245",
   "metadata": {
    "tags": []
   },
   "source": [
    "#### Step 1) Get List of Unique Player IDs that played in the Modern Tracking Era (2013-Present)"
   ]
  },
  {
   "cell_type": "code",
   "execution_count": 3,
   "id": "b1f4a9d0-ce62-4cfb-9cdd-cfd47b297437",
   "metadata": {
    "tags": []
   },
   "outputs": [
    {
     "name": "stderr",
     "output_type": "stream",
     "text": [
      " 40%|█████████████████████████████████▏                                                 | 4/10 [00:49<01:13, 12.27s/it]"
     ]
    },
    {
     "name": "stdout",
     "output_type": "stream",
     "text": [
      "An error occurred for the following params 1610612738, 2017-18: HTTPSConnectionPool(host='stats.nba.com', port=443): Read timed out. (read timeout=30)\n",
      "An error occurred for the following params 1610612738, 2017-18: HTTPSConnectionPool(host='stats.nba.com', port=443): Read timed out. (read timeout=30)\n",
      "An error occurred for the following params 1610612738, 2017-18: ('Connection aborted.', RemoteDisconnected('Remote end closed connection without response'))\n",
      "An error occurred for the following params 1610612738, 2017-18: HTTPSConnectionPool(host='stats.nba.com', port=443): Max retries exceeded with url: /stats/commonteamroster?LeagueID=&Season=2017-18&TeamID=1610612738 (Caused by NewConnectionError('<urllib3.connection.HTTPSConnection object at 0x000002A8AA1CC190>: Failed to establish a new connection: [Errno 11001] getaddrinfo failed'))\n",
      "An error occurred for the following params 1610612738, 2017-18: HTTPSConnectionPool(host='stats.nba.com', port=443): Read timed out. (read timeout=30)\n"
     ]
    },
    {
     "name": "stderr",
     "output_type": "stream",
     "text": [
      " 50%|█████████████████████████████████████████▌                                         | 5/10 [02:43<04:04, 48.89s/it]"
     ]
    },
    {
     "name": "stdout",
     "output_type": "stream",
     "text": [
      "An error occurred for the following params 1610612747, 2018-19: HTTPSConnectionPool(host='stats.nba.com', port=443): Read timed out. (read timeout=30)\n",
      "An error occurred for the following params 1610612747, 2018-19: ('Connection aborted.', RemoteDisconnected('Remote end closed connection without response'))\n",
      "An error occurred for the following params 1610612747, 2018-19: HTTPSConnectionPool(host='stats.nba.com', port=443): Max retries exceeded with url: /stats/commonteamroster?LeagueID=&Season=2018-19&TeamID=1610612747 (Caused by NewConnectionError('<urllib3.connection.HTTPSConnection object at 0x000002A8AA233F50>: Failed to establish a new connection: [Errno 11001] getaddrinfo failed'))\n"
     ]
    },
    {
     "name": "stderr",
     "output_type": "stream",
     "text": [
      " 60%|█████████████████████████████████████████████████▊                                 | 6/10 [03:43<03:30, 52.64s/it]"
     ]
    },
    {
     "name": "stdout",
     "output_type": "stream",
     "text": [
      "An error occurred for the following params 1610612746, 2019-20: HTTPSConnectionPool(host='stats.nba.com', port=443): Read timed out. (read timeout=30)\n",
      "An error occurred for the following params 1610612746, 2019-20: ('Connection aborted.', RemoteDisconnected('Remote end closed connection without response'))\n",
      "An error occurred for the following params 1610612746, 2019-20: HTTPSConnectionPool(host='stats.nba.com', port=443): Max retries exceeded with url: /stats/commonteamroster?LeagueID=&Season=2019-20&TeamID=1610612746 (Caused by NewConnectionError('<urllib3.connection.HTTPSConnection object at 0x000002A8AA28B310>: Failed to establish a new connection: [Errno 11001] getaddrinfo failed'))\n",
      "An error occurred for the following params 1610612761, 2019-20: HTTPSConnectionPool(host='stats.nba.com', port=443): Read timed out. (read timeout=30)\n",
      "An error occurred for the following params 1610612761, 2019-20: HTTPSConnectionPool(host='stats.nba.com', port=443): Read timed out. (read timeout=30)\n",
      "An error occurred for the following params 1610612761, 2019-20: ('Connection aborted.', RemoteDisconnected('Remote end closed connection without response'))\n",
      "An error occurred for the following params 1610612761, 2019-20: HTTPSConnectionPool(host='stats.nba.com', port=443): Max retries exceeded with url: /stats/commonteamroster?LeagueID=&Season=2019-20&TeamID=1610612761 (Caused by NewConnectionError('<urllib3.connection.HTTPSConnection object at 0x000002A8AA2872D0>: Failed to establish a new connection: [Errno 11001] getaddrinfo failed'))\n"
     ]
    },
    {
     "name": "stderr",
     "output_type": "stream",
     "text": [
      " 70%|██████████████████████████████████████████████████████████                         | 7/10 [06:14<04:14, 84.91s/it]"
     ]
    },
    {
     "name": "stdout",
     "output_type": "stream",
     "text": [
      "An error occurred for the following params 1610612756, 2020-21: HTTPSConnectionPool(host='stats.nba.com', port=443): Read timed out. (read timeout=30)\n",
      "An error occurred for the following params 1610612756, 2020-21: HTTPSConnectionPool(host='stats.nba.com', port=443): Read timed out. (read timeout=30)\n",
      "An error occurred for the following params 1610612756, 2020-21: ('Connection aborted.', RemoteDisconnected('Remote end closed connection without response'))\n",
      "An error occurred for the following params 1610612756, 2020-21: HTTPSConnectionPool(host='stats.nba.com', port=443): Max retries exceeded with url: /stats/commonteamroster?LeagueID=&Season=2020-21&TeamID=1610612756 (Caused by NewConnectionError('<urllib3.connection.HTTPSConnection object at 0x000002A8AA1767D0>: Failed to establish a new connection: [Errno 11001] getaddrinfo failed'))\n"
     ]
    },
    {
     "name": "stderr",
     "output_type": "stream",
     "text": [
      "100%|██████████████████████████████████████████████████████████████████████████████████| 10/10 [08:04<00:00, 48.41s/it]\n"
     ]
    }
   ],
   "source": [
    "modern_players = _get_modern_players()"
   ]
  },
  {
   "cell_type": "markdown",
   "id": "38af3cf9-de64-43f9-b3a2-9a1005e84d4c",
   "metadata": {
    "tags": []
   },
   "source": [
    "#### Step 2) Create ID Database of Players in the Modern Tracking Era (2013-Present)"
   ]
  },
  {
   "cell_type": "code",
   "execution_count": 12,
   "id": "50a7985f-99a4-4a30-a2c2-085d106004f9",
   "metadata": {
    "tags": []
   },
   "outputs": [
    {
     "name": "stderr",
     "output_type": "stream",
     "text": [
      "100%|████████████████████████████████████████████████████████████████████████████| 1286/1286 [00:00<00:00, 7865.60it/s]"
     ]
    },
    {
     "name": "stdout",
     "output_type": "stream",
     "text": [
      "(1283, 4)\n"
     ]
    },
    {
     "name": "stderr",
     "output_type": "stream",
     "text": [
      "\n"
     ]
    },
    {
     "data": {
      "text/html": [
       "<div>\n",
       "<style scoped>\n",
       "    .dataframe tbody tr th:only-of-type {\n",
       "        vertical-align: middle;\n",
       "    }\n",
       "\n",
       "    .dataframe tbody tr th {\n",
       "        vertical-align: top;\n",
       "    }\n",
       "\n",
       "    .dataframe thead th {\n",
       "        text-align: right;\n",
       "    }\n",
       "</style>\n",
       "<table border=\"1\" class=\"dataframe\">\n",
       "  <thead>\n",
       "    <tr style=\"text-align: right;\">\n",
       "      <th></th>\n",
       "      <th>PLAYER_NAME</th>\n",
       "      <th>FIRST_NAME</th>\n",
       "      <th>LAST_NAME</th>\n",
       "      <th>PLAYER_ID</th>\n",
       "    </tr>\n",
       "  </thead>\n",
       "  <tbody>\n",
       "    <tr>\n",
       "      <th>0</th>\n",
       "      <td>Jeff Teague</td>\n",
       "      <td>Jeff</td>\n",
       "      <td>Teague</td>\n",
       "      <td>201952</td>\n",
       "    </tr>\n",
       "    <tr>\n",
       "      <th>1</th>\n",
       "      <td>Lou Williams</td>\n",
       "      <td>Lou</td>\n",
       "      <td>Williams</td>\n",
       "      <td>101150</td>\n",
       "    </tr>\n",
       "    <tr>\n",
       "      <th>2</th>\n",
       "      <td>Paul Millsap</td>\n",
       "      <td>Paul</td>\n",
       "      <td>Millsap</td>\n",
       "      <td>200794</td>\n",
       "    </tr>\n",
       "    <tr>\n",
       "      <th>3</th>\n",
       "      <td>DeMarre Carroll</td>\n",
       "      <td>DeMarre</td>\n",
       "      <td>Carroll</td>\n",
       "      <td>201960</td>\n",
       "    </tr>\n",
       "    <tr>\n",
       "      <th>4</th>\n",
       "      <td>Pero Antic</td>\n",
       "      <td>Pero</td>\n",
       "      <td>Antic</td>\n",
       "      <td>203544</td>\n",
       "    </tr>\n",
       "  </tbody>\n",
       "</table>\n",
       "</div>"
      ],
      "text/plain": [
       "       PLAYER_NAME FIRST_NAME LAST_NAME  PLAYER_ID\n",
       "0      Jeff Teague       Jeff    Teague     201952\n",
       "1     Lou Williams        Lou  Williams     101150\n",
       "2     Paul Millsap       Paul   Millsap     200794\n",
       "3  DeMarre Carroll    DeMarre   Carroll     201960\n",
       "4       Pero Antic       Pero     Antic     203544"
      ]
     },
     "execution_count": 12,
     "metadata": {},
     "output_type": "execute_result"
    }
   ],
   "source": [
    "ids_df = _create_ids_database(modern_players)\n",
    "print(ids_df.shape)\n",
    "ids_df.head()"
   ]
  },
  {
   "cell_type": "markdown",
   "id": "84acbc50-1b15-4f1c-b5ec-7faf381fc4aa",
   "metadata": {},
   "source": [
    "#### Step 3) Scrape Every Player's Entire Gamelong in the Modern Tracking Era (2013-Present) "
   ]
  },
  {
   "cell_type": "code",
   "execution_count": 3,
   "id": "92ca1923-c8e5-4ffe-80ed-579270919f89",
   "metadata": {
    "tags": []
   },
   "outputs": [
    {
     "name": "stdout",
     "output_type": "stream",
     "text": [
      "(1283, 4)\n"
     ]
    },
    {
     "data": {
      "text/html": [
       "<div>\n",
       "<style scoped>\n",
       "    .dataframe tbody tr th:only-of-type {\n",
       "        vertical-align: middle;\n",
       "    }\n",
       "\n",
       "    .dataframe tbody tr th {\n",
       "        vertical-align: top;\n",
       "    }\n",
       "\n",
       "    .dataframe thead th {\n",
       "        text-align: right;\n",
       "    }\n",
       "</style>\n",
       "<table border=\"1\" class=\"dataframe\">\n",
       "  <thead>\n",
       "    <tr style=\"text-align: right;\">\n",
       "      <th></th>\n",
       "      <th>PLAYER_NAME</th>\n",
       "      <th>FIRST_NAME</th>\n",
       "      <th>LAST_NAME</th>\n",
       "      <th>PLAYER_ID</th>\n",
       "    </tr>\n",
       "  </thead>\n",
       "  <tbody>\n",
       "    <tr>\n",
       "      <th>0</th>\n",
       "      <td>Jeff Teague</td>\n",
       "      <td>Jeff</td>\n",
       "      <td>Teague</td>\n",
       "      <td>201952</td>\n",
       "    </tr>\n",
       "    <tr>\n",
       "      <th>1</th>\n",
       "      <td>Lou Williams</td>\n",
       "      <td>Lou</td>\n",
       "      <td>Williams</td>\n",
       "      <td>101150</td>\n",
       "    </tr>\n",
       "  </tbody>\n",
       "</table>\n",
       "</div>"
      ],
      "text/plain": [
       "    PLAYER_NAME FIRST_NAME LAST_NAME  PLAYER_ID\n",
       "0   Jeff Teague       Jeff    Teague     201952\n",
       "1  Lou Williams        Lou  Williams     101150"
      ]
     },
     "execution_count": 3,
     "metadata": {},
     "output_type": "execute_result"
    }
   ],
   "source": [
    "# CAN SKIP STEP 1 & 2 IF YOU HAVE SAVED IDS AS .csv FILE \n",
    "ids_df = pd.read_csv('data/ids/players_modern_database.csv')\n",
    "print(ids_df.shape)\n",
    "ids_df.head(2)"
   ]
  },
  {
   "cell_type": "code",
   "execution_count": 32,
   "id": "c05dea3f-eacd-40d8-81a9-b05f8aa485e8",
   "metadata": {
    "tags": []
   },
   "outputs": [],
   "source": [
    "browser = _open_chromedriver()"
   ]
  },
  {
   "cell_type": "code",
   "execution_count": 41,
   "id": "6cd0ac95-7a75-45e9-9cbd-cb02dd3149ee",
   "metadata": {
    "tags": []
   },
   "outputs": [
    {
     "name": "stdout",
     "output_type": "stream",
     "text": [
      "Scraping Regular Season Gamelogs...\n"
     ]
    },
    {
     "name": "stderr",
     "output_type": "stream",
     "text": [
      "100%|██████████████████████████████████████████████████████████████████████████████████████| 1283/1283 [00:00<?, ?it/s]"
     ]
    },
    {
     "name": "stdout",
     "output_type": "stream",
     "text": [
      "Finished Regular Season Gamelogs!\n"
     ]
    },
    {
     "name": "stderr",
     "output_type": "stream",
     "text": [
      "\n"
     ]
    }
   ],
   "source": [
    "print('Scraping Regular Season Gamelogs...')\n",
    "\n",
    "# manually kept track of IDs that produced errors and ran code separately to get files (error occurred because the xpath to .csv download was different for small gamelogs)\n",
    "error_ids = [2568, 1885, 201591, 1627868, 1627741, 202918, 1628500, 1628571, 1629129, \n",
    "             1629055, 1629341, 1629739, 1629624, 1630492, 1630258, 1630624, 1630597, \n",
    "             1630525, 1629083, 1630604, 1631171, 1631221, 1630641, 1631096\n",
    "            ]\n",
    "\n",
    "# iterate through each player id, and download the .csv file of their gamelog\n",
    "for pid in tqdm(ids_df['PLAYER_ID'].to_list()):\n",
    "    _scrape_player_rs_gamelogs(browser, pid)\n",
    "    pass\n",
    "    \n",
    "print('Finished Regular Season Gamelogs!')"
   ]
  },
  {
   "cell_type": "markdown",
   "id": "d7c671c2-e0f2-436b-b20d-f3534054d16e",
   "metadata": {},
   "source": [
    "#### Step 4) Clean Gamelog Data & Get Possession Data by Season & Team for each Player"
   ]
  },
  {
   "cell_type": "code",
   "execution_count": 44,
   "id": "bec1014e-9bda-42be-9242-fe3ac64ac446",
   "metadata": {
    "tags": []
   },
   "outputs": [
    {
     "name": "stderr",
     "output_type": "stream",
     "text": [
      "100%|██████████████████████████████████████████████████████████████████████████████| 1283/1283 [01:19<00:00, 16.18it/s]\n"
     ]
    },
    {
     "name": "stdout",
     "output_type": "stream",
     "text": [
      "(252309, 32)\n"
     ]
    },
    {
     "data": {
      "text/html": [
       "<div>\n",
       "<style scoped>\n",
       "    .dataframe tbody tr th:only-of-type {\n",
       "        vertical-align: middle;\n",
       "    }\n",
       "\n",
       "    .dataframe tbody tr th {\n",
       "        vertical-align: top;\n",
       "    }\n",
       "\n",
       "    .dataframe thead th {\n",
       "        text-align: right;\n",
       "    }\n",
       "</style>\n",
       "<table border=\"1\" class=\"dataframe\">\n",
       "  <thead>\n",
       "    <tr style=\"text-align: right;\">\n",
       "      <th></th>\n",
       "      <th>Date</th>\n",
       "      <th>Team</th>\n",
       "      <th>Opponent</th>\n",
       "      <th>Minutes</th>\n",
       "      <th>OffPoss</th>\n",
       "      <th>Points</th>\n",
       "      <th>FG2M</th>\n",
       "      <th>FG2A</th>\n",
       "      <th>Fg2Pct</th>\n",
       "      <th>FG3M</th>\n",
       "      <th>...</th>\n",
       "      <th>ShotQualityAvg</th>\n",
       "      <th>EfgPct</th>\n",
       "      <th>TsPct</th>\n",
       "      <th>PtsPutbacks</th>\n",
       "      <th>Fg2aBlocked</th>\n",
       "      <th>FG2APctBlocked</th>\n",
       "      <th>Fg3aBlocked</th>\n",
       "      <th>FG3APctBlocked</th>\n",
       "      <th>Usage</th>\n",
       "      <th>PLAYER_ID</th>\n",
       "    </tr>\n",
       "  </thead>\n",
       "  <tbody>\n",
       "    <tr>\n",
       "      <th>0</th>\n",
       "      <td>2013-10-30</td>\n",
       "      <td>GSW</td>\n",
       "      <td>LAL</td>\n",
       "      <td>17:59</td>\n",
       "      <td>38</td>\n",
       "      <td>2</td>\n",
       "      <td>1</td>\n",
       "      <td>2</td>\n",
       "      <td>0.500000</td>\n",
       "      <td>0</td>\n",
       "      <td>...</td>\n",
       "      <td>0.698200</td>\n",
       "      <td>0.500000</td>\n",
       "      <td>0.500000</td>\n",
       "      <td>0</td>\n",
       "      <td>0</td>\n",
       "      <td>0.0</td>\n",
       "      <td>0</td>\n",
       "      <td>0.0</td>\n",
       "      <td>4.651163</td>\n",
       "      <td>101106</td>\n",
       "    </tr>\n",
       "    <tr>\n",
       "      <th>1</th>\n",
       "      <td>2013-10-31</td>\n",
       "      <td>GSW</td>\n",
       "      <td>LAC</td>\n",
       "      <td>28:09</td>\n",
       "      <td>61</td>\n",
       "      <td>17</td>\n",
       "      <td>6</td>\n",
       "      <td>7</td>\n",
       "      <td>0.857143</td>\n",
       "      <td>0</td>\n",
       "      <td>...</td>\n",
       "      <td>0.556986</td>\n",
       "      <td>0.857143</td>\n",
       "      <td>0.850000</td>\n",
       "      <td>2</td>\n",
       "      <td>0</td>\n",
       "      <td>0.0</td>\n",
       "      <td>0</td>\n",
       "      <td>0.0</td>\n",
       "      <td>16.666667</td>\n",
       "      <td>101106</td>\n",
       "    </tr>\n",
       "    <tr>\n",
       "      <th>2</th>\n",
       "      <td>2013-11-02</td>\n",
       "      <td>GSW</td>\n",
       "      <td>SAC</td>\n",
       "      <td>20:28</td>\n",
       "      <td>41</td>\n",
       "      <td>6</td>\n",
       "      <td>3</td>\n",
       "      <td>6</td>\n",
       "      <td>0.500000</td>\n",
       "      <td>0</td>\n",
       "      <td>...</td>\n",
       "      <td>0.494983</td>\n",
       "      <td>0.500000</td>\n",
       "      <td>0.428571</td>\n",
       "      <td>0</td>\n",
       "      <td>0</td>\n",
       "      <td>0.0</td>\n",
       "      <td>0</td>\n",
       "      <td>0.0</td>\n",
       "      <td>19.512195</td>\n",
       "      <td>101106</td>\n",
       "    </tr>\n",
       "    <tr>\n",
       "      <th>3</th>\n",
       "      <td>2013-11-04</td>\n",
       "      <td>GSW</td>\n",
       "      <td>PHI</td>\n",
       "      <td>22:57</td>\n",
       "      <td>52</td>\n",
       "      <td>4</td>\n",
       "      <td>1</td>\n",
       "      <td>1</td>\n",
       "      <td>1.000000</td>\n",
       "      <td>0</td>\n",
       "      <td>...</td>\n",
       "      <td>0.862500</td>\n",
       "      <td>1.000000</td>\n",
       "      <td>0.666667</td>\n",
       "      <td>0</td>\n",
       "      <td>0</td>\n",
       "      <td>0.0</td>\n",
       "      <td>0</td>\n",
       "      <td>0.0</td>\n",
       "      <td>6.557377</td>\n",
       "      <td>101106</td>\n",
       "    </tr>\n",
       "    <tr>\n",
       "      <th>4</th>\n",
       "      <td>2013-11-06</td>\n",
       "      <td>GSW</td>\n",
       "      <td>MIN</td>\n",
       "      <td>16:18</td>\n",
       "      <td>34</td>\n",
       "      <td>2</td>\n",
       "      <td>1</td>\n",
       "      <td>2</td>\n",
       "      <td>0.500000</td>\n",
       "      <td>0</td>\n",
       "      <td>...</td>\n",
       "      <td>0.426500</td>\n",
       "      <td>0.500000</td>\n",
       "      <td>0.500000</td>\n",
       "      <td>0</td>\n",
       "      <td>0</td>\n",
       "      <td>0.0</td>\n",
       "      <td>0</td>\n",
       "      <td>0.0</td>\n",
       "      <td>13.513514</td>\n",
       "      <td>101106</td>\n",
       "    </tr>\n",
       "  </tbody>\n",
       "</table>\n",
       "<p>5 rows × 32 columns</p>\n",
       "</div>"
      ],
      "text/plain": [
       "        Date Team Opponent Minutes  OffPoss  Points  FG2M  FG2A    Fg2Pct   \n",
       "0 2013-10-30  GSW      LAL   17:59       38       2     1     2  0.500000  \\\n",
       "1 2013-10-31  GSW      LAC   28:09       61      17     6     7  0.857143   \n",
       "2 2013-11-02  GSW      SAC   20:28       41       6     3     6  0.500000   \n",
       "3 2013-11-04  GSW      PHI   22:57       52       4     1     1  1.000000   \n",
       "4 2013-11-06  GSW      MIN   16:18       34       2     1     2  0.500000   \n",
       "\n",
       "   FG3M  ...  ShotQualityAvg    EfgPct     TsPct  PtsPutbacks  Fg2aBlocked   \n",
       "0     0  ...        0.698200  0.500000  0.500000            0            0  \\\n",
       "1     0  ...        0.556986  0.857143  0.850000            2            0   \n",
       "2     0  ...        0.494983  0.500000  0.428571            0            0   \n",
       "3     0  ...        0.862500  1.000000  0.666667            0            0   \n",
       "4     0  ...        0.426500  0.500000  0.500000            0            0   \n",
       "\n",
       "   FG2APctBlocked  Fg3aBlocked  FG3APctBlocked      Usage  PLAYER_ID  \n",
       "0             0.0            0             0.0   4.651163     101106  \n",
       "1             0.0            0             0.0  16.666667     101106  \n",
       "2             0.0            0             0.0  19.512195     101106  \n",
       "3             0.0            0             0.0   6.557377     101106  \n",
       "4             0.0            0             0.0  13.513514     101106  \n",
       "\n",
       "[5 rows x 32 columns]"
      ]
     },
     "execution_count": 44,
     "metadata": {},
     "output_type": "execute_result"
    }
   ],
   "source": [
    "poss_filepath = \"C:/Users/lukar/Desktop/Sports Analytics/NBA Ball Handle Rate/data/gamelogs/\"\n",
    "poss_files = os.listdir(poss_filepath)\n",
    "\n",
    "# create dataframe of all the games\n",
    "possessions_df = pd.DataFrame()\n",
    "\n",
    "# iterate through all the gamelog files we have\n",
    "for filename in tqdm(poss_files):\n",
    "    temp_df = pd.read_csv(poss_filepath + filename)\n",
    "    pid = filename.split('_')[0].replace('.csv','')\n",
    "    temp_df['PLAYER_ID'] = int(pid)\n",
    "    # check if the gamelog had no games available for that player, if not, add to dataframe\n",
    "    if (0 not in temp_df['Date'].to_list()): \n",
    "        possessions_df = pd.concat([possessions_df, temp_df]).reset_index(drop=True)\n",
    "    \n",
    "print(possessions_df.shape)\n",
    "\n",
    "possessions_df['Date'] = pd.to_datetime(possessions_df['Date'])\n",
    "    \n",
    "possessions_df.head()"
   ]
  },
  {
   "cell_type": "code",
   "execution_count": 138,
   "id": "2fdd51da-47ff-4f31-ac3b-ad538582e75b",
   "metadata": {
    "tags": []
   },
   "outputs": [
    {
     "data": {
      "text/html": [
       "<div>\n",
       "<style scoped>\n",
       "    .dataframe tbody tr th:only-of-type {\n",
       "        vertical-align: middle;\n",
       "    }\n",
       "\n",
       "    .dataframe tbody tr th {\n",
       "        vertical-align: top;\n",
       "    }\n",
       "\n",
       "    .dataframe thead th {\n",
       "        text-align: right;\n",
       "    }\n",
       "</style>\n",
       "<table border=\"1\" class=\"dataframe\">\n",
       "  <thead>\n",
       "    <tr style=\"text-align: right;\">\n",
       "      <th></th>\n",
       "      <th>Date</th>\n",
       "      <th>Team</th>\n",
       "      <th>Opponent</th>\n",
       "      <th>Minutes</th>\n",
       "      <th>OffPoss</th>\n",
       "      <th>Points</th>\n",
       "      <th>FG2M</th>\n",
       "      <th>FG2A</th>\n",
       "      <th>Fg2Pct</th>\n",
       "      <th>FG3M</th>\n",
       "      <th>...</th>\n",
       "      <th>EfgPct</th>\n",
       "      <th>TsPct</th>\n",
       "      <th>PtsPutbacks</th>\n",
       "      <th>Fg2aBlocked</th>\n",
       "      <th>FG2APctBlocked</th>\n",
       "      <th>Fg3aBlocked</th>\n",
       "      <th>FG3APctBlocked</th>\n",
       "      <th>Usage</th>\n",
       "      <th>PLAYER_ID</th>\n",
       "      <th>SEASON</th>\n",
       "    </tr>\n",
       "  </thead>\n",
       "  <tbody>\n",
       "    <tr>\n",
       "      <th>0</th>\n",
       "      <td>2013-10-30</td>\n",
       "      <td>GSW</td>\n",
       "      <td>LAL</td>\n",
       "      <td>17:59</td>\n",
       "      <td>38</td>\n",
       "      <td>2</td>\n",
       "      <td>1</td>\n",
       "      <td>2</td>\n",
       "      <td>0.500000</td>\n",
       "      <td>0</td>\n",
       "      <td>...</td>\n",
       "      <td>0.500000</td>\n",
       "      <td>0.50</td>\n",
       "      <td>0</td>\n",
       "      <td>0</td>\n",
       "      <td>0.0</td>\n",
       "      <td>0</td>\n",
       "      <td>0.0</td>\n",
       "      <td>4.651163</td>\n",
       "      <td>101106</td>\n",
       "      <td>2013-14</td>\n",
       "    </tr>\n",
       "    <tr>\n",
       "      <th>1</th>\n",
       "      <td>2013-10-31</td>\n",
       "      <td>GSW</td>\n",
       "      <td>LAC</td>\n",
       "      <td>28:09</td>\n",
       "      <td>61</td>\n",
       "      <td>17</td>\n",
       "      <td>6</td>\n",
       "      <td>7</td>\n",
       "      <td>0.857143</td>\n",
       "      <td>0</td>\n",
       "      <td>...</td>\n",
       "      <td>0.857143</td>\n",
       "      <td>0.85</td>\n",
       "      <td>2</td>\n",
       "      <td>0</td>\n",
       "      <td>0.0</td>\n",
       "      <td>0</td>\n",
       "      <td>0.0</td>\n",
       "      <td>16.666667</td>\n",
       "      <td>101106</td>\n",
       "      <td>2013-14</td>\n",
       "    </tr>\n",
       "  </tbody>\n",
       "</table>\n",
       "<p>2 rows × 33 columns</p>\n",
       "</div>"
      ],
      "text/plain": [
       "        Date Team Opponent Minutes  OffPoss  Points  FG2M  FG2A    Fg2Pct   \n",
       "0 2013-10-30  GSW      LAL   17:59       38       2     1     2  0.500000  \\\n",
       "1 2013-10-31  GSW      LAC   28:09       61      17     6     7  0.857143   \n",
       "\n",
       "   FG3M  ...    EfgPct  TsPct  PtsPutbacks  Fg2aBlocked  FG2APctBlocked   \n",
       "0     0  ...  0.500000   0.50            0            0             0.0  \\\n",
       "1     0  ...  0.857143   0.85            2            0             0.0   \n",
       "\n",
       "   Fg3aBlocked  FG3APctBlocked      Usage  PLAYER_ID   SEASON  \n",
       "0            0             0.0   4.651163     101106  2013-14  \n",
       "1            0             0.0  16.666667     101106  2013-14  \n",
       "\n",
       "[2 rows x 33 columns]"
      ]
     },
     "execution_count": 138,
     "metadata": {},
     "output_type": "execute_result"
    }
   ],
   "source": [
    "# load .json file of season dates and convert it to a dataframe\n",
    "r = open('assets/seasons.json')\n",
    "season_dates = json.load(r)\n",
    "dates_df = pd.DataFrame.from_dict(season_dates, orient='index')\n",
    "\n",
    "def map_season(game_date):\n",
    "    '''\n",
    "    returns the NBA season (YYYY-YY+1 format) in which the game was played for \n",
    "    '''\n",
    "    # convert date to YYYY-MM-DD format\n",
    "    game_date = game_date.strftime(\"%Y-%m-%d\")\n",
    "    \n",
    "    # iterate through the start and end dates for each season\n",
    "    for start_month, start_day, end_month, end_day in zip(dates_df['regular_start_month'].to_list(), dates_df['regular_start_day'].to_list(), \n",
    "                                                          dates_df['regular_end_month'].to_list(), dates_df['regular_end_day'].to_list()):\n",
    "        for year in list(dates_df.index.values):\n",
    "            season_start_month = dates_df.loc[year, 'regular_start_month']\n",
    "            season_start_day = dates_df.loc[year, 'regular_start_day']\n",
    "            season_end_month = dates_df.loc[year, 'regular_end_month']\n",
    "            season_end_day = dates_df.loc[year, 'regular_end_day']\n",
    "\n",
    "            start_date_obj = date(int(year), int(season_start_month), int(season_start_day))\n",
    "            end_date_obj = date(int(year)+1, int(season_end_month), int(season_end_day))\n",
    "            \n",
    "            start_date = start_date_obj.strftime(\"%Y-%m-%d\")\n",
    "            end_date = end_date_obj.strftime(\"%Y-%m-%d\")\n",
    "            \n",
    "            # check if game date lies between the start and end date, if so, the game was played for the season\n",
    "            if start_date <= game_date <= end_date:\n",
    "                season = str(year) + '-' + str(int(year)+1)[2:]\n",
    "                return season\n",
    "    return ''\n",
    "\n",
    "possessions_df['SEASON'] = possessions_df['Date'].apply(map_season)\n",
    "possessions_df.head(2)"
   ]
  },
  {
   "cell_type": "code",
   "execution_count": 141,
   "id": "2ccd2d56-fdc0-4b35-b9a2-d31f9c474268",
   "metadata": {
    "tags": []
   },
   "outputs": [
    {
     "data": {
      "text/html": [
       "<div>\n",
       "<style scoped>\n",
       "    .dataframe tbody tr th:only-of-type {\n",
       "        vertical-align: middle;\n",
       "    }\n",
       "\n",
       "    .dataframe tbody tr th {\n",
       "        vertical-align: top;\n",
       "    }\n",
       "\n",
       "    .dataframe thead th {\n",
       "        text-align: right;\n",
       "    }\n",
       "</style>\n",
       "<table border=\"1\" class=\"dataframe\">\n",
       "  <thead>\n",
       "    <tr style=\"text-align: right;\">\n",
       "      <th></th>\n",
       "      <th>SEASON</th>\n",
       "      <th>PLAYER_ID</th>\n",
       "      <th>TEAM</th>\n",
       "      <th>OffPoss</th>\n",
       "    </tr>\n",
       "  </thead>\n",
       "  <tbody>\n",
       "    <tr>\n",
       "      <th>0</th>\n",
       "      <td>2013-14</td>\n",
       "      <td>708</td>\n",
       "      <td>BKN</td>\n",
       "      <td>2072</td>\n",
       "    </tr>\n",
       "    <tr>\n",
       "      <th>1</th>\n",
       "      <td>2013-14</td>\n",
       "      <td>951</td>\n",
       "      <td>MIA</td>\n",
       "      <td>3637</td>\n",
       "    </tr>\n",
       "  </tbody>\n",
       "</table>\n",
       "</div>"
      ],
      "text/plain": [
       "    SEASON  PLAYER_ID TEAM  OffPoss\n",
       "0  2013-14        708  BKN     2072\n",
       "1  2013-14        951  MIA     3637"
      ]
     },
     "execution_count": 141,
     "metadata": {},
     "output_type": "execute_result"
    }
   ],
   "source": [
    "imprt_cols = ['SEASON','PLAYER_ID','Team','OffPoss']\n",
    "player_possessions_gb = possessions_df[imprt_cols].groupby(by=['SEASON','PLAYER_ID','Team']).sum().reset_index()\n",
    "\n",
    "player_possessions_gb = player_possessions_gb.rename(columns={'Team': 'TEAM'})\n",
    "\n",
    "player_possessions_gb.to_csv('data/possessions/player_possessions_by_team_season_2013-23.csv', index=False)\n",
    "\n",
    "player_possessions_gb.head(2)"
   ]
  },
  {
   "cell_type": "markdown",
   "id": "0ca5f196-be2d-44b4-aa86-2323cd15ce06",
   "metadata": {},
   "source": [
    "#### Step 5) Get Traded Players Database"
   ]
  },
  {
   "cell_type": "code",
   "execution_count": 145,
   "id": "812fcf3b-d5fb-4924-bc1a-1fb6f8ea671d",
   "metadata": {
    "tags": []
   },
   "outputs": [
    {
     "name": "stderr",
     "output_type": "stream",
     "text": [
      "100%|██████████████████████████████████████████████████████████████████████████████████| 60/60 [00:00<00:00, 67.22it/s]\n",
      "100%|██████████████████████████████████████████████████████████████████████████████████| 75/75 [00:01<00:00, 66.95it/s]\n",
      "100%|██████████████████████████████████████████████████████████████████████████████████| 47/47 [00:00<00:00, 68.05it/s]\n",
      "100%|██████████████████████████████████████████████████████████████████████████████████| 53/53 [00:00<00:00, 65.10it/s]\n",
      "100%|██████████████████████████████████████████████████████████████████████████████████| 59/59 [00:00<00:00, 64.44it/s]\n",
      "100%|██████████████████████████████████████████████████████████████████████████████████| 85/85 [00:01<00:00, 64.49it/s]\n",
      "100%|██████████████████████████████████████████████████████████████████████████████████| 59/59 [00:00<00:00, 63.71it/s]\n",
      "100%|██████████████████████████████████████████████████████████████████████████████████| 79/79 [00:01<00:00, 66.27it/s]\n",
      "100%|██████████████████████████████████████████████████████████████████████████████████| 95/95 [00:01<00:00, 67.70it/s]\n",
      "100%|██████████████████████████████████████████████████████████████████████████████████| 69/69 [00:01<00:00, 67.87it/s]"
     ]
    },
    {
     "name": "stdout",
     "output_type": "stream",
     "text": [
      "(1409, 5)\n"
     ]
    },
    {
     "name": "stderr",
     "output_type": "stream",
     "text": [
      "\n"
     ]
    },
    {
     "data": {
      "text/html": [
       "<div>\n",
       "<style scoped>\n",
       "    .dataframe tbody tr th:only-of-type {\n",
       "        vertical-align: middle;\n",
       "    }\n",
       "\n",
       "    .dataframe tbody tr th {\n",
       "        vertical-align: top;\n",
       "    }\n",
       "\n",
       "    .dataframe thead th {\n",
       "        text-align: right;\n",
       "    }\n",
       "</style>\n",
       "<table border=\"1\" class=\"dataframe\">\n",
       "  <thead>\n",
       "    <tr style=\"text-align: right;\">\n",
       "      <th></th>\n",
       "      <th>SEASON</th>\n",
       "      <th>PLAYER_ID</th>\n",
       "      <th>TEAM</th>\n",
       "      <th>START_DATE</th>\n",
       "      <th>END_DATE</th>\n",
       "    </tr>\n",
       "  </thead>\n",
       "  <tbody>\n",
       "    <tr>\n",
       "      <th>0</th>\n",
       "      <td>2013-14</td>\n",
       "      <td>1889</td>\n",
       "      <td>DEN</td>\n",
       "      <td>2013-10-30</td>\n",
       "      <td>2013-12-30</td>\n",
       "    </tr>\n",
       "    <tr>\n",
       "      <th>1</th>\n",
       "      <td>2013-14</td>\n",
       "      <td>1889</td>\n",
       "      <td>WAS</td>\n",
       "      <td>2014-02-22</td>\n",
       "      <td>2014-04-16</td>\n",
       "    </tr>\n",
       "    <tr>\n",
       "      <th>2</th>\n",
       "      <td>2013-14</td>\n",
       "      <td>2406</td>\n",
       "      <td>MIL</td>\n",
       "      <td>2013-10-30</td>\n",
       "      <td>2014-02-20</td>\n",
       "    </tr>\n",
       "    <tr>\n",
       "      <th>3</th>\n",
       "      <td>2013-14</td>\n",
       "      <td>2406</td>\n",
       "      <td>OKC</td>\n",
       "      <td>2014-03-04</td>\n",
       "      <td>2014-04-16</td>\n",
       "    </tr>\n",
       "    <tr>\n",
       "      <th>4</th>\n",
       "      <td>2013-14</td>\n",
       "      <td>2422</td>\n",
       "      <td>SAC</td>\n",
       "      <td>2013-10-30</td>\n",
       "      <td>2013-12-07</td>\n",
       "    </tr>\n",
       "  </tbody>\n",
       "</table>\n",
       "</div>"
      ],
      "text/plain": [
       "    SEASON PLAYER_ID TEAM  START_DATE    END_DATE\n",
       "0  2013-14      1889  DEN  2013-10-30  2013-12-30\n",
       "1  2013-14      1889  WAS  2014-02-22  2014-04-16\n",
       "2  2013-14      2406  MIL  2013-10-30  2014-02-20\n",
       "3  2013-14      2406  OKC  2014-03-04  2014-04-16\n",
       "4  2013-14      2422  SAC  2013-10-30  2013-12-07"
      ]
     },
     "execution_count": 145,
     "metadata": {},
     "output_type": "execute_result"
    }
   ],
   "source": [
    "# create dictionary mapping of season to traded players\n",
    "traded_players = {}\n",
    "\n",
    "# iterate through each season\n",
    "for season in player_possessions_gb['SEASON'].unique():\n",
    "    season_int = int(season[:-3])\n",
    "    season_param = str(season_int) + '-' + str(season_int+1)[2:]\n",
    "    # subset the dataframe by season and look at the SEASON, PLAYER_ID column only\n",
    "    season_df = player_possessions_gb[player_possessions_gb['SEASON'] == season].reset_index(drop=True)[['SEASON','PLAYER_ID']]\n",
    "    # if there are duplicate PLAYER_IDs, then they played for multiple teams that season\n",
    "    traded_df = season_df[season_df.duplicated(keep=False)].reset_index(drop=True)\n",
    "    # match season to a list of unique Player IDs\n",
    "    traded_players[season] = list(traded_df['PLAYER_ID'].unique())\n",
    "    \n",
    "def get_team_dates(season_param, gamelog_df, player_id):\n",
    "    '''\n",
    "    returns the start date and end date for the traded player on the team they played for\n",
    "    '''\n",
    "    traded_df = pd.DataFrame(columns=['SEASON','PLAYER_ID','TEAM','START_DATE','END_DATE'])\n",
    "    p_gamelog_df = gamelog_df[(gamelog_df['SEASON'] == season_param) & \n",
    "                              (gamelog_df['PLAYER_ID'] == player_id)].reset_index(drop=True)\n",
    "    for team in list(p_gamelog_df['Team'].unique()):\n",
    "        pt_gamelog_df = p_gamelog_df[p_gamelog_df['Team'] == team].reset_index(drop=True).sort_values(by=['Date'])\n",
    "        dates = pt_gamelog_df['Date'].to_list()\n",
    "        start_date, end_date = dates[0], dates[-1]\n",
    "        \n",
    "        player_info = [season_param, player_id, team, start_date, end_date]\n",
    "        traded_df.loc[len(traded_df)] = player_info\n",
    "        \n",
    "    return traded_df\n",
    "\n",
    "# create dataframe\n",
    "traded_df = pd.DataFrame(columns=['SEASON','PLAYER_ID','TEAM','START_DATE','END_DATE'])\n",
    "\n",
    "# iterate through each season and then iterate through the player-ids of each season\n",
    "for season_param in traded_players:\n",
    "    for player_id in tqdm(traded_players[season_param]):\n",
    "        temp_df = get_team_dates(season_param, player_possessions_df, player_id)\n",
    "        traded_df = pd.concat([traded_df, temp_df]).reset_index(drop=True)\n",
    "        \n",
    "print(traded_df.shape)\n",
    "\n",
    "# convert date columns to string\n",
    "traded_df['START_DATE'] = traded_df['START_DATE'].astype(str)\n",
    "traded_df['END_DATE'] = traded_df['END_DATE'].astype(str)\n",
    "\n",
    "traded_df.to_csv('data/ids/traded_players_database.csv', index=False)\n",
    "\n",
    "traded_df.head()"
   ]
  }
 ],
 "metadata": {
  "kernelspec": {
   "display_name": "Python 3 (ipykernel)",
   "language": "python",
   "name": "python3"
  },
  "language_info": {
   "codemirror_mode": {
    "name": "ipython",
    "version": 3
   },
   "file_extension": ".py",
   "mimetype": "text/x-python",
   "name": "python",
   "nbconvert_exporter": "python",
   "pygments_lexer": "ipython3",
   "version": "3.11.3"
  }
 },
 "nbformat": 4,
 "nbformat_minor": 5
}
