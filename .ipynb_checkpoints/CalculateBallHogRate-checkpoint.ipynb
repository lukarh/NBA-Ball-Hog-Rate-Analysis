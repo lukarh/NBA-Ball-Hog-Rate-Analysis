{
 "cells": [
  {
   "cell_type": "markdown",
   "id": "e0e5bc7e-e249-46c3-95f0-087259bb253a",
   "metadata": {},
   "source": [
    "#### Imports"
   ]
  },
  {
   "cell_type": "code",
   "execution_count": 2,
   "id": "4d83d48a-99c1-4ba6-9c45-c7ba42e2ba97",
   "metadata": {
    "tags": []
   },
   "outputs": [],
   "source": [
    "import os\n",
    "import time\n",
    "import datetime\n",
    "import pandas as pd\n",
    "\n",
    "from tqdm import tqdm\n",
    "\n",
    "from nba_api.stats.static import players, teams"
   ]
  },
  {
   "cell_type": "markdown",
   "id": "2dc69a6b-4887-4899-924d-ff8d131535a0",
   "metadata": {},
   "source": [
    "#### Fetch Data from Local Directory"
   ]
  },
  {
   "cell_type": "code",
   "execution_count": 3,
   "id": "ea4bef13-cb87-4660-9ad6-3ab689dc06ec",
   "metadata": {
    "tags": []
   },
   "outputs": [],
   "source": [
    "def _get_seconds_per_possession_data(filepath='data/seconds-per-possession/regular-season/'):\n",
    "    '''\n",
    "    returns DataFrame of Seconds Per Possession - Offense Data for each Player every Season & Team\n",
    "    '''\n",
    "    filenames = os.listdir(filepath)\n",
    "    \n",
    "    # initialize dataframe\n",
    "    spp_df = pd.DataFrame()\n",
    "    \n",
    "    # loop through the filenames and get data\n",
    "    for filename in tqdm(filenames):\n",
    "        temp_df = pd.read_csv(filepath + filename)\n",
    "        spp_df = pd.concat([spp_df, temp_df]).reset_index(drop=True)\n",
    "        \n",
    "    return spp_df\n",
    "\n",
    "def _get_seasonal_touches_data(filepath='data/touches/season-totals/'):\n",
    "    '''\n",
    "    returns DataFrame of Tracking Touches Data for each season\n",
    "    '''\n",
    "    filenames = os.listdir(filepath)\n",
    "    \n",
    "    # initialize dataframe\n",
    "    tracking_df = pd.DataFrame()\n",
    "    \n",
    "    # loop through the filenames and get data\n",
    "    for filename in tqdm(filenames):\n",
    "        temp_df = pd.read_csv(filepath + filename)\n",
    "        tracking_df = pd.concat([tracking_df, temp_df]).reset_index(drop=True)\n",
    "    \n",
    "    return tracking_df\n",
    "\n",
    "def _get_traded_touches_data(filepath='data/touches/traded-totals/'):\n",
    "    '''\n",
    "    returns DataFrame of Traded Tracking Touches Data for each season\n",
    "    '''\n",
    "    filenames = os.listdir(filepath)\n",
    "    \n",
    "    # initialize dataframe\n",
    "    tracking_df = pd.DataFrame()\n",
    "    \n",
    "    # loop through the filenames and get data\n",
    "    for filename in tqdm(filenames):\n",
    "        temp_df = pd.read_csv(filepath + filename)\n",
    "        tracking_df = pd.concat([tracking_df, temp_df]).reset_index(drop=True)\n",
    "    \n",
    "    return tracking_df\n",
    "\n",
    "def _get_possessions_data(filepath='data/possessions/'):\n",
    "    '''\n",
    "    returns DataFrame of Player's Offensive Possession Totals by Season\n",
    "    '''\n",
    "    filenames = os.listdir(filepath)\n",
    "    \n",
    "    # initialize dataframe\n",
    "    possessions_df = pd.DataFrame()\n",
    "    \n",
    "    # loop through the filenames and get data\n",
    "    for filename in tqdm(filenames):\n",
    "        temp_df = pd.read_csv(filepath + filename).rename(columns={'OffPoss': 'OFF_POSS'})\n",
    "        possessions_df = pd.concat([possessions_df, temp_df]).reset_index(drop=True)\n",
    "    \n",
    "    return possessions_df\n",
    "\n",
    "def _get_ids_data():\n",
    "    '''\n",
    "    returns DataFrame of Player IDs\n",
    "    '''\n",
    "    ids_df = pd.read_csv('data/ids/players_modern_database.csv')\n",
    "    return ids_df"
   ]
  },
  {
   "cell_type": "markdown",
   "id": "4af5cbbe-f697-489c-a4ff-eaf27dd141bd",
   "metadata": {},
   "source": [
    "#### Call the Functions and Get the Data"
   ]
  },
  {
   "cell_type": "code",
   "execution_count": 4,
   "id": "64303dde-5632-4fe5-a436-2c6e8892ae08",
   "metadata": {
    "tags": []
   },
   "outputs": [
    {
     "name": "stderr",
     "output_type": "stream",
     "text": [
      "100%|███████████████████████████████████████████████████████████████████████████████| 300/300 [00:01<00:00, 157.07it/s]\n",
      "100%|█████████████████████████████████████████████████████████████████████████████████| 10/10 [00:00<00:00, 119.51it/s]\n",
      "100%|████████████████████████████████████████████████████████████████████████████████████| 1/1 [00:00<00:00, 84.15it/s]\n",
      "100%|████████████████████████████████████████████████████████████████████████████████████| 1/1 [00:00<00:00, 54.59it/s]\n"
     ]
    }
   ],
   "source": [
    "ids_df = _get_ids_data()\n",
    "spp_df = _get_seconds_per_possession_data()\n",
    "tracking_df = _get_seasonal_touches_data()\n",
    "traded_tracking_df = _get_traded_touches_data()\n",
    "possessions_df = _get_possessions_data()"
   ]
  },
  {
   "cell_type": "code",
   "execution_count": 5,
   "id": "12d29fe6-9db6-449a-bf32-b6ee5a59b5f4",
   "metadata": {
    "tags": []
   },
   "outputs": [],
   "source": [
    "mikeJames_spp_df = spp_df[spp_df['PLAYER_NAME'] == 'Mike James'].reset_index(drop=True)\n",
    "spp_df = spp_df[~(spp_df['PLAYER_NAME'] == 'Mike James')].reset_index(drop=True)"
   ]
  },
  {
   "cell_type": "code",
   "execution_count": 6,
   "id": "908f657c-3a18-4624-8b61-8026973c985d",
   "metadata": {
    "tags": []
   },
   "outputs": [
    {
     "name": "stdout",
     "output_type": "stream",
     "text": [
      "The Number of Traded Players: 681\n"
     ]
    },
    {
     "data": {
      "text/plain": [
       "[('2013-14', 'Andre Miller'),\n",
       " ('2013-14', 'Caron Butler'),\n",
       " ('2013-14', 'John Salmons'),\n",
       " ('2013-14', 'Reggie Evans'),\n",
       " ('2013-14', 'Luke Ridnour')]"
      ]
     },
     "execution_count": 6,
     "metadata": {},
     "output_type": "execute_result"
    }
   ],
   "source": [
    "# get DataFrame of all traded players by season\n",
    "traded_names_df = traded_tracking_df[['SEASON','PLAYER_ID','PLAYER_NAME']].copy()\n",
    "traded_names_df = traded_names_df.drop_duplicates()\n",
    "print('The Number of Traded Players:', len(traded_names_df))\n",
    "\n",
    "# create a list of tuples containing the traded players\n",
    "traded_names = list(zip(traded_names_df.SEASON, traded_names_df.PLAYER_NAME))\n",
    "\n",
    "traded_names[:5]"
   ]
  },
  {
   "cell_type": "code",
   "execution_count": 7,
   "id": "15a09ec5-ece7-46e3-a5dd-45519089c008",
   "metadata": {
    "tags": []
   },
   "outputs": [
    {
     "name": "stdout",
     "output_type": "stream",
     "text": [
      "The Number of Untraded Player Totals:  4538\n",
      "The Number of Unique Player Totals by team AND season: 5947\n"
     ]
    },
    {
     "data": {
      "text/html": [
       "<div>\n",
       "<style scoped>\n",
       "    .dataframe tbody tr th:only-of-type {\n",
       "        vertical-align: middle;\n",
       "    }\n",
       "\n",
       "    .dataframe tbody tr th {\n",
       "        vertical-align: top;\n",
       "    }\n",
       "\n",
       "    .dataframe thead th {\n",
       "        text-align: right;\n",
       "    }\n",
       "</style>\n",
       "<table border=\"1\" class=\"dataframe\">\n",
       "  <thead>\n",
       "    <tr style=\"text-align: right;\">\n",
       "      <th></th>\n",
       "      <th>PLAYER_ID</th>\n",
       "      <th>PLAYER_NAME</th>\n",
       "      <th>TEAM</th>\n",
       "      <th>TIME_OF_POSS</th>\n",
       "      <th>TOUCHES</th>\n",
       "      <th>FRONT_CT_TOUCHES</th>\n",
       "      <th>AVG_DRIB_PER_TOUCH</th>\n",
       "      <th>SEASON</th>\n",
       "    </tr>\n",
       "  </thead>\n",
       "  <tbody>\n",
       "    <tr>\n",
       "      <th>0</th>\n",
       "      <td>201985</td>\n",
       "      <td>AJ Price</td>\n",
       "      <td>MIN</td>\n",
       "      <td>20.6</td>\n",
       "      <td>244</td>\n",
       "      <td>90</td>\n",
       "      <td>4.78</td>\n",
       "      <td>2013-14</td>\n",
       "    </tr>\n",
       "    <tr>\n",
       "      <th>1</th>\n",
       "      <td>1733</td>\n",
       "      <td>Al Harrington</td>\n",
       "      <td>WAS</td>\n",
       "      <td>20.2</td>\n",
       "      <td>823</td>\n",
       "      <td>499</td>\n",
       "      <td>0.58</td>\n",
       "      <td>2013-14</td>\n",
       "    </tr>\n",
       "    <tr>\n",
       "      <th>2</th>\n",
       "      <td>201143</td>\n",
       "      <td>Al Horford</td>\n",
       "      <td>ATL</td>\n",
       "      <td>53.3</td>\n",
       "      <td>1826</td>\n",
       "      <td>1176</td>\n",
       "      <td>0.49</td>\n",
       "      <td>2013-14</td>\n",
       "    </tr>\n",
       "    <tr>\n",
       "      <th>3</th>\n",
       "      <td>2744</td>\n",
       "      <td>Al Jefferson</td>\n",
       "      <td>CHA</td>\n",
       "      <td>139.2</td>\n",
       "      <td>3575</td>\n",
       "      <td>2776</td>\n",
       "      <td>0.59</td>\n",
       "      <td>2013-14</td>\n",
       "    </tr>\n",
       "    <tr>\n",
       "      <th>4</th>\n",
       "      <td>202329</td>\n",
       "      <td>Al-Farouq Aminu</td>\n",
       "      <td>NOP</td>\n",
       "      <td>88.4</td>\n",
       "      <td>2520</td>\n",
       "      <td>1709</td>\n",
       "      <td>1.03</td>\n",
       "      <td>2013-14</td>\n",
       "    </tr>\n",
       "  </tbody>\n",
       "</table>\n",
       "</div>"
      ],
      "text/plain": [
       "   PLAYER_ID      PLAYER_NAME TEAM  TIME_OF_POSS  TOUCHES  FRONT_CT_TOUCHES   \n",
       "0     201985         AJ Price  MIN          20.6      244                90  \\\n",
       "1       1733    Al Harrington  WAS          20.2      823               499   \n",
       "2     201143       Al Horford  ATL          53.3     1826              1176   \n",
       "3       2744     Al Jefferson  CHA         139.2     3575              2776   \n",
       "4     202329  Al-Farouq Aminu  NOP          88.4     2520              1709   \n",
       "\n",
       "   AVG_DRIB_PER_TOUCH   SEASON  \n",
       "0                4.78  2013-14  \n",
       "1                0.58  2013-14  \n",
       "2                0.49  2013-14  \n",
       "3                0.59  2013-14  \n",
       "4                1.03  2013-14  "
      ]
     },
     "execution_count": 7,
     "metadata": {},
     "output_type": "execute_result"
    }
   ],
   "source": [
    "# filter out the traded players season totals from the dataframe\n",
    "singular_tracking_df = tracking_df[~tracking_df[[\"SEASON\",\"PLAYER_NAME\"]].apply(tuple, 1).isin(traded_names)].copy()\n",
    "print('The Number of Untraded Player Totals: ', singular_tracking_df.shape[0])\n",
    "\n",
    "# create a final dataframe with every player's total time of possession and touches by team and season\n",
    "final_tracking_df = pd.concat([singular_tracking_df, traded_tracking_df]).reset_index(drop=True)\n",
    "final_tracking_df = final_tracking_df.rename(columns={'TEAM_ABBREVIATION': 'TEAM'})\n",
    "print('The Number of Unique Player Totals by team AND season:', final_tracking_df.shape[0])\n",
    "\n",
    "final_tracking_df.head()"
   ]
  },
  {
   "cell_type": "code",
   "execution_count": 8,
   "id": "0d489f9d-e728-483b-81ae-15241b2c0a53",
   "metadata": {
    "tags": []
   },
   "outputs": [],
   "source": [
    "# create a team ID column\n",
    "id_to_abb_map = dict()\n",
    "\n",
    "# create team abbreviation to team ID mapping\n",
    "for team in teams.get_teams():\n",
    "    id_to_abb_map[team['abbreviation']] = team['id']\n",
    "    \n",
    "final_tracking_df['TEAM_ID'] = final_tracking_df['TEAM'].map(id_to_abb_map)\n",
    "possessions_df['TEAM_ID'] = possessions_df['TEAM'].map(id_to_abb_map)"
   ]
  },
  {
   "cell_type": "code",
   "execution_count": 9,
   "id": "9fe3688b-3e6b-42d0-a9d0-4203b53d67c9",
   "metadata": {
    "tags": []
   },
   "outputs": [
    {
     "name": "stdout",
     "output_type": "stream",
     "text": [
      "The number of  player ids to identify: 6009\n",
      "The Number of Identified Player IDs: 5951\n",
      "The Number of Unidentified Player IDs: 58\n",
      "The Final Number of Identified Player IDs: 6009\n"
     ]
    }
   ],
   "source": [
    "playerID_map = dict(zip(ids_df['PLAYER_NAME'], ids_df['PLAYER_ID']))\n",
    "\n",
    "print('The number of  player ids to identify:', len(spp_df))\n",
    "\n",
    "# map player IDs to player names\n",
    "spp_df['PLAYER_ID'] = spp_df['PLAYER_NAME'].map(playerID_map)\n",
    "\n",
    "# separate the rows that have been identified with player ids\n",
    "identified_spp_df = spp_df[~spp_df['PLAYER_ID'].isna()].reset_index(drop=True)\n",
    "unidentified_spp_df = spp_df[spp_df['PLAYER_ID'].isna()].reset_index(drop=True)\n",
    "\n",
    "print('The Number of Identified Player IDs:', len(identified_spp_df))\n",
    "print('The Number of Unidentified Player IDs:', len(unidentified_spp_df))\n",
    "\n",
    "pbp_to_nba_map = {\n",
    "     'CJ Wilcox': 'C.J. Wilcox',\n",
    "     'Cameron Reynolds': 'Cam Reynolds',\n",
    "     'Charles Brown Jr.': 'Charlie Brown Jr.',\n",
    "     'Danuel House': 'Danuel House Jr.',\n",
    "     'Enes Kanter': 'Enes Freedom',\n",
    "     'Frank Mason': 'Frank Mason III',\n",
    "     'Jeff Dowtin': 'Jeff Dowtin Jr.',\n",
    "     'Juan Hernangomez': 'Juancho Hernangomez',\n",
    "     'Kevin Knox': 'Kevin Knox II',\n",
    "     'Marcus Morris': 'Marcus Morris Sr.',\n",
    "     'Michael Frazier': 'Melvin Frazier Jr.',\n",
    "     'Nicolas Claxton': 'Nic Claxton',\n",
    "     'OG Anunoby': 'O.G. Anunoby',\n",
    "     'P.J. Dozier': 'PJ Dozier',\n",
    "     'PJ Tucker': 'P.J. Tucker',\n",
    "     'TJ Leaf': 'T.J. Leaf',\n",
    "     'TJ Warren': 'T.J. Warren',\n",
    "     'Walter Lemon Jr.': 'Walt Lemon Jr.'\n",
    "}\n",
    "\n",
    "# change the pbp names to NBA names and now identify their player IDs\n",
    "unidentified_spp_df['PLAYER_NAME'] = unidentified_spp_df['PLAYER_NAME'].map(pbp_to_nba_map)\n",
    "unidentified_spp_df['PLAYER_ID'] = unidentified_spp_df['PLAYER_NAME'].map(playerID_map)\n",
    "\n",
    "spp_df = pd.concat([identified_spp_df, unidentified_spp_df]).reset_index(drop=True)\n",
    "print('The Final Number of Identified Player IDs:', len(spp_df))"
   ]
  },
  {
   "cell_type": "code",
   "execution_count": 10,
   "id": "9b1e74fa-c2fb-4207-b19c-4851c002cc06",
   "metadata": {
    "tags": []
   },
   "outputs": [],
   "source": [
    "merged_df = pd.merge(spp_df[['SEASON','MINUTES_ON','PLAYER_NAME','PLAYER_ID','TEAM_ID','SECONDS_PER_POSS_OFFENSE_PLAYER_ON']],\n",
    "                     final_tracking_df[['SEASON','PLAYER_ID','TEAM_ID','TIME_OF_POSS']],\n",
    "                     on=['SEASON','PLAYER_ID','TEAM_ID'],\n",
    "                     how='left'\n",
    "                    )\n",
    "merged_df = pd.merge(merged_df, possessions_df, on=['SEASON','PLAYER_ID','TEAM_ID'], how='left')"
   ]
  },
  {
   "cell_type": "code",
   "execution_count": 11,
   "id": "290a85ad-bdc3-457a-ba63-1a33d7805f28",
   "metadata": {
    "tags": []
   },
   "outputs": [
    {
     "name": "stdout",
     "output_type": "stream",
     "text": [
      "The Number of Players who don't have any possession data, but only seconds-per-poss data: 207\n",
      "The Number of Players with the data: 5802\n"
     ]
    }
   ],
   "source": [
    "no_possessions_found_df = merged_df[merged_df['OFF_POSS'].isna()].reset_index(drop=True)\n",
    "\n",
    "final_df = merged_df[~merged_df['OFF_POSS'].isna()].reset_index(drop=True)\n",
    "\n",
    "print(\"The Number of Players who don't have any possession data, but only seconds-per-poss data:\", len(no_possessions_found_df))\n",
    "print(\"The Number of Players with the data:\", len(final_df))"
   ]
  },
  {
   "cell_type": "code",
   "execution_count": 12,
   "id": "45421ee1-6e7e-4062-ac96-d88b6727010c",
   "metadata": {
    "tags": []
   },
   "outputs": [
    {
     "name": "stdout",
     "output_type": "stream",
     "text": [
      "The Number of Players with the data: 5802\n",
      "The Number of Players with weird data: 1\n",
      "The Final Number of Players with the data: 5801\n"
     ]
    },
    {
     "data": {
      "text/html": [
       "<div>\n",
       "<style scoped>\n",
       "    .dataframe tbody tr th:only-of-type {\n",
       "        vertical-align: middle;\n",
       "    }\n",
       "\n",
       "    .dataframe tbody tr th {\n",
       "        vertical-align: top;\n",
       "    }\n",
       "\n",
       "    .dataframe thead th {\n",
       "        text-align: right;\n",
       "    }\n",
       "</style>\n",
       "<table border=\"1\" class=\"dataframe\">\n",
       "  <thead>\n",
       "    <tr style=\"text-align: right;\">\n",
       "      <th></th>\n",
       "      <th>SEASON</th>\n",
       "      <th>MINUTES_ON</th>\n",
       "      <th>PLAYER_NAME</th>\n",
       "      <th>PLAYER_ID</th>\n",
       "      <th>TEAM_ID</th>\n",
       "      <th>SECONDS_PER_POSS_OFFENSE_PLAYER_ON</th>\n",
       "      <th>TIME_OF_POSS</th>\n",
       "      <th>TEAM</th>\n",
       "      <th>OFF_POSS</th>\n",
       "      <th>Points</th>\n",
       "      <th>...</th>\n",
       "      <th>FG2A</th>\n",
       "      <th>FG3M</th>\n",
       "      <th>FG3A</th>\n",
       "      <th>FtPoints</th>\n",
       "      <th>PtsAssisted2s</th>\n",
       "      <th>PtsUnassisted2s</th>\n",
       "      <th>PtsAssisted3s</th>\n",
       "      <th>PtsUnassisted3s</th>\n",
       "      <th>PtsPutbacks</th>\n",
       "      <th>BALL_HOG%</th>\n",
       "    </tr>\n",
       "  </thead>\n",
       "  <tbody>\n",
       "    <tr>\n",
       "      <th>0</th>\n",
       "      <td>2022-23</td>\n",
       "      <td>83</td>\n",
       "      <td>A.J. Lawson</td>\n",
       "      <td>1630639.0</td>\n",
       "      <td>1610612742</td>\n",
       "      <td>14.477</td>\n",
       "      <td>3.5</td>\n",
       "      <td>DAL</td>\n",
       "      <td>230.0</td>\n",
       "      <td>54.0</td>\n",
       "      <td>...</td>\n",
       "      <td>18.0</td>\n",
       "      <td>10.0</td>\n",
       "      <td>25.0</td>\n",
       "      <td>2.0</td>\n",
       "      <td>10.0</td>\n",
       "      <td>12.0</td>\n",
       "      <td>30.0</td>\n",
       "      <td>0.0</td>\n",
       "      <td>10.0</td>\n",
       "      <td>6.3</td>\n",
       "    </tr>\n",
       "    <tr>\n",
       "      <th>1</th>\n",
       "      <td>2022-23</td>\n",
       "      <td>2</td>\n",
       "      <td>A.J. Lawson</td>\n",
       "      <td>1630639.0</td>\n",
       "      <td>1610612750</td>\n",
       "      <td>12.000</td>\n",
       "      <td>0.0</td>\n",
       "      <td>MIN</td>\n",
       "      <td>5.0</td>\n",
       "      <td>2.0</td>\n",
       "      <td>...</td>\n",
       "      <td>1.0</td>\n",
       "      <td>0.0</td>\n",
       "      <td>0.0</td>\n",
       "      <td>0.0</td>\n",
       "      <td>2.0</td>\n",
       "      <td>0.0</td>\n",
       "      <td>0.0</td>\n",
       "      <td>0.0</td>\n",
       "      <td>0.0</td>\n",
       "      <td>0.0</td>\n",
       "    </tr>\n",
       "    <tr>\n",
       "      <th>2</th>\n",
       "      <td>2022-23</td>\n",
       "      <td>346</td>\n",
       "      <td>AJ Green</td>\n",
       "      <td>1631260.0</td>\n",
       "      <td>1610612749</td>\n",
       "      <td>14.634</td>\n",
       "      <td>17.8</td>\n",
       "      <td>MIL</td>\n",
       "      <td>717.0</td>\n",
       "      <td>154.0</td>\n",
       "      <td>...</td>\n",
       "      <td>20.0</td>\n",
       "      <td>44.0</td>\n",
       "      <td>105.0</td>\n",
       "      <td>4.0</td>\n",
       "      <td>14.0</td>\n",
       "      <td>4.0</td>\n",
       "      <td>120.0</td>\n",
       "      <td>12.0</td>\n",
       "      <td>0.0</td>\n",
       "      <td>10.2</td>\n",
       "    </tr>\n",
       "    <tr>\n",
       "      <th>3</th>\n",
       "      <td>2022-23</td>\n",
       "      <td>1372</td>\n",
       "      <td>AJ Griffin</td>\n",
       "      <td>1631100.0</td>\n",
       "      <td>1610612737</td>\n",
       "      <td>14.134</td>\n",
       "      <td>52.8</td>\n",
       "      <td>ATL</td>\n",
       "      <td>2916.0</td>\n",
       "      <td>639.0</td>\n",
       "      <td>...</td>\n",
       "      <td>274.0</td>\n",
       "      <td>101.0</td>\n",
       "      <td>259.0</td>\n",
       "      <td>42.0</td>\n",
       "      <td>164.0</td>\n",
       "      <td>130.0</td>\n",
       "      <td>270.0</td>\n",
       "      <td>33.0</td>\n",
       "      <td>20.0</td>\n",
       "      <td>7.7</td>\n",
       "    </tr>\n",
       "    <tr>\n",
       "      <th>4</th>\n",
       "      <td>2016-17</td>\n",
       "      <td>163</td>\n",
       "      <td>AJ Hammons</td>\n",
       "      <td>1627773.0</td>\n",
       "      <td>1610612742</td>\n",
       "      <td>15.291</td>\n",
       "      <td>5.0</td>\n",
       "      <td>DAL</td>\n",
       "      <td>320.0</td>\n",
       "      <td>48.0</td>\n",
       "      <td>...</td>\n",
       "      <td>32.0</td>\n",
       "      <td>5.0</td>\n",
       "      <td>10.0</td>\n",
       "      <td>9.0</td>\n",
       "      <td>22.0</td>\n",
       "      <td>2.0</td>\n",
       "      <td>15.0</td>\n",
       "      <td>0.0</td>\n",
       "      <td>2.0</td>\n",
       "      <td>6.1</td>\n",
       "    </tr>\n",
       "  </tbody>\n",
       "</table>\n",
       "<p>5 rows × 21 columns</p>\n",
       "</div>"
      ],
      "text/plain": [
       "    SEASON  MINUTES_ON  PLAYER_NAME  PLAYER_ID     TEAM_ID   \n",
       "0  2022-23          83  A.J. Lawson  1630639.0  1610612742  \\\n",
       "1  2022-23           2  A.J. Lawson  1630639.0  1610612750   \n",
       "2  2022-23         346     AJ Green  1631260.0  1610612749   \n",
       "3  2022-23        1372   AJ Griffin  1631100.0  1610612737   \n",
       "4  2016-17         163   AJ Hammons  1627773.0  1610612742   \n",
       "\n",
       "   SECONDS_PER_POSS_OFFENSE_PLAYER_ON  TIME_OF_POSS TEAM  OFF_POSS  Points   \n",
       "0                              14.477           3.5  DAL     230.0    54.0  \\\n",
       "1                              12.000           0.0  MIN       5.0     2.0   \n",
       "2                              14.634          17.8  MIL     717.0   154.0   \n",
       "3                              14.134          52.8  ATL    2916.0   639.0   \n",
       "4                              15.291           5.0  DAL     320.0    48.0   \n",
       "\n",
       "   ...   FG2A   FG3M   FG3A  FtPoints  PtsAssisted2s  PtsUnassisted2s   \n",
       "0  ...   18.0   10.0   25.0       2.0           10.0             12.0  \\\n",
       "1  ...    1.0    0.0    0.0       0.0            2.0              0.0   \n",
       "2  ...   20.0   44.0  105.0       4.0           14.0              4.0   \n",
       "3  ...  274.0  101.0  259.0      42.0          164.0            130.0   \n",
       "4  ...   32.0    5.0   10.0       9.0           22.0              2.0   \n",
       "\n",
       "   PtsAssisted3s  PtsUnassisted3s  PtsPutbacks  BALL_HOG%  \n",
       "0           30.0              0.0         10.0        6.3  \n",
       "1            0.0              0.0          0.0        0.0  \n",
       "2          120.0             12.0          0.0       10.2  \n",
       "3          270.0             33.0         20.0        7.7  \n",
       "4           15.0              0.0          2.0        6.1  \n",
       "\n",
       "[5 rows x 21 columns]"
      ]
     },
     "execution_count": 12,
     "metadata": {},
     "output_type": "execute_result"
    }
   ],
   "source": [
    "final_df['BALL_HOG%'] = round(((final_df['TIME_OF_POSS'] * 60) / (final_df['OFF_POSS'] * final_df['SECONDS_PER_POSS_OFFENSE_PLAYER_ON'])) * 100, 1)\n",
    "final_df = final_df.sort_values(by=['PLAYER_NAME','SEASON']).reset_index(drop=True)\n",
    "\n",
    "print(\"The Number of Players with the data:\", len(final_df))\n",
    "weird_df = final_df[(final_df['PLAYER_NAME'] == 'Louis King') & (final_df['SEASON'] == '2022-23')].reset_index(drop=True)\n",
    "print(\"The Number of Players with weird data:\", len(weird_df))\n",
    "final_df = final_df[~((final_df['PLAYER_NAME'] == 'Louis King') & (final_df['SEASON'] == '2022-23'))].reset_index(drop=True)\n",
    "print(\"The Final Number of Players with the data:\", len(final_df))\n",
    "\n",
    "# save the data\n",
    "final_df.to_csv('data/ball-hog-rate/ball-hog-rates_regular_season_2013_23.csv', index=False)\n",
    "\n",
    "final_df.head()"
   ]
  }
 ],
 "metadata": {
  "kernelspec": {
   "display_name": "Python 3 (ipykernel)",
   "language": "python",
   "name": "python3"
  },
  "language_info": {
   "codemirror_mode": {
    "name": "ipython",
    "version": 3
   },
   "file_extension": ".py",
   "mimetype": "text/x-python",
   "name": "python",
   "nbconvert_exporter": "python",
   "pygments_lexer": "ipython3",
   "version": "3.11.3"
  }
 },
 "nbformat": 4,
 "nbformat_minor": 5
}
