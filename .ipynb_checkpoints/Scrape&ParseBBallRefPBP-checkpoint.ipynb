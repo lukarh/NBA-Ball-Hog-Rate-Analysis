{
 "cells": [
  {
   "cell_type": "code",
   "execution_count": 80,
   "id": "52924506-4bff-40f5-9511-a057bae79049",
   "metadata": {
    "tags": []
   },
   "outputs": [],
   "source": [
    "import os\n",
    "import time\n",
    "import random\n",
    "import difflib\n",
    "import numpy as np\n",
    "import pandas as pd\n",
    "\n",
    "from tqdm import tqdm\n",
    "\n",
    "import requests\n",
    "from bs4 import BeautifulSoup\n",
    "\n",
    "from unidecode import unidecode\n",
    "from nba_api.stats.static import teams"
   ]
  },
  {
   "cell_type": "code",
   "execution_count": 3,
   "id": "ca3c46e3-41bc-4745-b3b0-c07c2f37c6b9",
   "metadata": {
    "tags": []
   },
   "outputs": [],
   "source": [
    "def _scrape_bball_ref_pbp(year):\n",
    "    '''\n",
    "    returns nothing, but scrape bball-ref pbp page and saves data to local directory\n",
    "    '''\n",
    "    # fetch response from URL\n",
    "    url = \"https://www.basketball-reference.com/leagues/NBA_{}_play-by-play.html#pbp_stats\".format(year)\n",
    "    response = requests.get(url)\n",
    "    soup = BeautifulSoup(response.content, \"html.parser\")\n",
    "    table = soup.find(\"table\", {\"id\": \"pbp_stats\"})\n",
    "    \n",
    "    # define column names\n",
    "    headers = ['PLAYER_NAME','POS','AGE','TEAM','GP','MP',\n",
    "               'PG%','SG%','SF%','PF%','C%','ON-COURT','ON_OFF',\n",
    "               'BAD_PASS','LOST_BALL','FOUL_SHOOT','OFF_FOUL',\n",
    "               'FOUL_SHOOT_DRAWN','OFF_FOUL_DRAWN','PGA','AND1','BLKD']\n",
    "    \n",
    "    rows = []\n",
    "    \n",
    "    # scrape rows on page\n",
    "    for tr in table.select(\"tbody tr\"):\n",
    "        row = [td.text for td in tr.select(\"td\")]\n",
    "\n",
    "        rows.append(row)\n",
    "        \n",
    "    # create dataframe and save the data to local directory\n",
    "    df = pd.DataFrame(rows, columns=headers)\n",
    "    \n",
    "    season_param = str(year-1) + '-' + str(year)[2:]\n",
    "    \n",
    "    df.to_csv('data/bballref-pbp/bball_ref_pbp_data_{}.csv'.format(season_param), index=False)\n",
    "    \n",
    "def _scrape_custom_bball_ref_pbp(start_year, end_year):\n",
    "    '''\n",
    "    returns nothing, but calls the scrape_bball_ref_pbp function for various amount of years\n",
    "    '''\n",
    "    for year in tqdm(range(start_year, end_year+1)):\n",
    "        _scrape_bball_ref_pbp(year)"
   ]
  },
  {
   "cell_type": "code",
   "execution_count": 19,
   "id": "d518bbaa-e894-4ed0-a976-5a582efba490",
   "metadata": {
    "tags": []
   },
   "outputs": [],
   "source": [
    "_scrape_custom_bball_ref_pbp(2014,2023)"
   ]
  },
  {
   "cell_type": "code",
   "execution_count": 138,
   "id": "968cbeca-5da1-4a27-a8f3-f6ce365b55e0",
   "metadata": {},
   "outputs": [],
   "source": [
    "# read the data in\n",
    "filepath = 'data/bballref-pbp/'\n",
    "pbp_df = pd.DataFrame()\n",
    "\n",
    "for filename in os.listdir(filepath):\n",
    "    temp_df = pd.read_csv(filepath + filename)\n",
    "    season = filename.split('_')[-1].replace('.csv','')\n",
    "    temp_df = temp_df[~temp_df['PLAYER_NAME'].isna()].reset_index(drop=True)\n",
    "    temp_df['SEASON'] = season\n",
    "    pbp_df = pd.concat([pbp_df, temp_df]).reset_index(drop=True)\n",
    "    \n",
    "# replace accents in player names and create player name mapping\n",
    "for name in sorted(list(pbp_df['PLAYER_NAME'].unique())):\n",
    "    name_map[name] = unidecode(name.replace('*',''))\n",
    "    \n",
    "# convert percentage column to two decimal places\n",
    "for col in ['PG%','SG%','SF%','PF%','C%']:\n",
    "    pbp_df[col] = pbp_df[col].str.replace('%', '').astype(float) / 100\n",
    "    \n",
    "# get list of teams and sort them\n",
    "team_lst = teams.get_teams()\n",
    "sorted_team_lst = sorted(team_lst, key=lambda x: x['full_name'])\n",
    "\n",
    "abb_to_id_map = dict()\n",
    "\n",
    "# map values to each other\n",
    "for team in sorted_team_lst:\n",
    "    if team['abbreviation'] == 'CHA':\n",
    "        abb_to_id_map['CHO'] = team['id']\n",
    "    elif team['abbreviation'] == 'PHX':\n",
    "        abb_to_id_map['PHO'] = team['id']\n",
    "    elif team['abbreviation'] == 'BKN':\n",
    "        abb_to_id_map['BRK'] = team['id']\n",
    "    abb_to_id_map[team['abbreviation']] = team['id']\n",
    "    \n",
    "# replace blank values with 0s\n",
    "pbp_df = pbp_df.replace(np.nan, 0.0)\n",
    "    \n",
    "# create new columns and fix names\n",
    "pbp_df['PLAYER_NAME'] = pbp_df['PLAYER_NAME'].map(name_map)\n",
    "pbp_df['POS_EST'] = round(((pbp_df['PG%'] * 1) + (pbp_df['SG%'] * 2) + (pbp_df['SF%'] * 3) + (pbp_df['PF%'] * 4) + (pbp_df['C%'] * 5)), 2)\n",
    "pbp_df['TEAM_ID'] = pbp_df['TEAM'].map(abb_to_id_map)"
   ]
  },
  {
   "cell_type": "code",
   "execution_count": 139,
   "id": "bbe97f97-6b70-4799-bc27-331982dc0909",
   "metadata": {
    "tags": []
   },
   "outputs": [
    {
     "name": "stdout",
     "output_type": "stream",
     "text": [
      "(6654, 25)\n",
      "(6654, 25)\n"
     ]
    }
   ],
   "source": [
    "print(pbp_df.shape)\n",
    "cs_df = pbp_df[pbp_df['POS_EST'] > 5.0].reset_index(drop=True)\n",
    "cs_df['POS_EST'] = 5.00\n",
    "pbp_df = pbp_df[~(pbp_df['POS_EST'] > 5.0)].reset_index(drop=True)\n",
    "pbp_df = pd.concat([pbp_df, cs_df]).reset_index(drop=True)\n",
    "print(pbp_df.shape)"
   ]
  },
  {
   "cell_type": "code",
   "execution_count": 140,
   "id": "589fe3a2-a7ee-47f1-a1db-4c80892d03d8",
   "metadata": {
    "tags": []
   },
   "outputs": [],
   "source": [
    "pbp_df[['SEASON','PLAYER_NAME','TEAM_ID','POS_EST']].to_csv('data/ids/players_bbref_database_w_posest.csv', index=False)"
   ]
  },
  {
   "cell_type": "code",
   "execution_count": 141,
   "id": "48698290-6085-4e82-96ac-98312d53cdf9",
   "metadata": {
    "tags": []
   },
   "outputs": [],
   "source": [
    "ballhog_df = pd.read_csv('data/ball-hog-rate/ball-hog-rates_regular_season_2013_23_w_age_exp.csv')"
   ]
  },
  {
   "cell_type": "code",
   "execution_count": 142,
   "id": "f4efed8e-c71b-4400-8f37-06e9bc6c9d95",
   "metadata": {
    "tags": []
   },
   "outputs": [
    {
     "data": {
      "text/html": [
       "<div>\n",
       "<style scoped>\n",
       "    .dataframe tbody tr th:only-of-type {\n",
       "        vertical-align: middle;\n",
       "    }\n",
       "\n",
       "    .dataframe tbody tr th {\n",
       "        vertical-align: top;\n",
       "    }\n",
       "\n",
       "    .dataframe thead th {\n",
       "        text-align: right;\n",
       "    }\n",
       "</style>\n",
       "<table border=\"1\" class=\"dataframe\">\n",
       "  <thead>\n",
       "    <tr style=\"text-align: right;\">\n",
       "      <th></th>\n",
       "      <th>SEASON</th>\n",
       "      <th>MINUTES_ON</th>\n",
       "      <th>PLAYER_NAME</th>\n",
       "      <th>PLAYER_ID</th>\n",
       "      <th>TEAM_ID</th>\n",
       "      <th>SECONDS_PER_POSS_OFFENSE_PLAYER_ON</th>\n",
       "      <th>TIME_OF_POSS</th>\n",
       "      <th>TEAM</th>\n",
       "      <th>OFF_POSS</th>\n",
       "      <th>BALL_HOG%</th>\n",
       "      <th>AGE</th>\n",
       "      <th>EXP</th>\n",
       "      <th>POS_EST</th>\n",
       "    </tr>\n",
       "  </thead>\n",
       "  <tbody>\n",
       "    <tr>\n",
       "      <th>0</th>\n",
       "      <td>2022-23</td>\n",
       "      <td>83</td>\n",
       "      <td>A.J. Lawson</td>\n",
       "      <td>1630639</td>\n",
       "      <td>1610612742</td>\n",
       "      <td>14.477</td>\n",
       "      <td>3.5</td>\n",
       "      <td>DAL</td>\n",
       "      <td>230</td>\n",
       "      <td>6.3</td>\n",
       "      <td>22</td>\n",
       "      <td>0</td>\n",
       "      <td>2.75</td>\n",
       "    </tr>\n",
       "    <tr>\n",
       "      <th>1</th>\n",
       "      <td>2022-23</td>\n",
       "      <td>2</td>\n",
       "      <td>A.J. Lawson</td>\n",
       "      <td>1630639</td>\n",
       "      <td>1610612750</td>\n",
       "      <td>12.000</td>\n",
       "      <td>0.0</td>\n",
       "      <td>MIN</td>\n",
       "      <td>5</td>\n",
       "      <td>0.0</td>\n",
       "      <td>22</td>\n",
       "      <td>0</td>\n",
       "      <td>2.99</td>\n",
       "    </tr>\n",
       "    <tr>\n",
       "      <th>2</th>\n",
       "      <td>2021-22</td>\n",
       "      <td>94</td>\n",
       "      <td>Bruno Fernando</td>\n",
       "      <td>1628981</td>\n",
       "      <td>1610612745</td>\n",
       "      <td>14.121</td>\n",
       "      <td>4.5</td>\n",
       "      <td>HOU</td>\n",
       "      <td>198</td>\n",
       "      <td>9.7</td>\n",
       "      <td>23</td>\n",
       "      <td>2</td>\n",
       "      <td>5.00</td>\n",
       "    </tr>\n",
       "    <tr>\n",
       "      <th>3</th>\n",
       "      <td>2021-22</td>\n",
       "      <td>58</td>\n",
       "      <td>Bruno Fernando</td>\n",
       "      <td>1628981</td>\n",
       "      <td>1610612738</td>\n",
       "      <td>13.843</td>\n",
       "      <td>2.7</td>\n",
       "      <td>BOS</td>\n",
       "      <td>134</td>\n",
       "      <td>8.7</td>\n",
       "      <td>23</td>\n",
       "      <td>2</td>\n",
       "      <td>4.88</td>\n",
       "    </tr>\n",
       "    <tr>\n",
       "      <th>4</th>\n",
       "      <td>2020-21</td>\n",
       "      <td>226</td>\n",
       "      <td>Bruno Fernando</td>\n",
       "      <td>1628981</td>\n",
       "      <td>1610612737</td>\n",
       "      <td>14.698</td>\n",
       "      <td>9.3</td>\n",
       "      <td>ATL</td>\n",
       "      <td>480</td>\n",
       "      <td>7.9</td>\n",
       "      <td>22</td>\n",
       "      <td>1</td>\n",
       "      <td>5.00</td>\n",
       "    </tr>\n",
       "  </tbody>\n",
       "</table>\n",
       "</div>"
      ],
      "text/plain": [
       "    SEASON  MINUTES_ON     PLAYER_NAME  PLAYER_ID     TEAM_ID   \n",
       "0  2022-23          83     A.J. Lawson    1630639  1610612742  \\\n",
       "1  2022-23           2     A.J. Lawson    1630639  1610612750   \n",
       "2  2021-22          94  Bruno Fernando    1628981  1610612745   \n",
       "3  2021-22          58  Bruno Fernando    1628981  1610612738   \n",
       "4  2020-21         226  Bruno Fernando    1628981  1610612737   \n",
       "\n",
       "   SECONDS_PER_POSS_OFFENSE_PLAYER_ON  TIME_OF_POSS TEAM  OFF_POSS  BALL_HOG%   \n",
       "0                              14.477           3.5  DAL       230        6.3  \\\n",
       "1                              12.000           0.0  MIN         5        0.0   \n",
       "2                              14.121           4.5  HOU       198        9.7   \n",
       "3                              13.843           2.7  BOS       134        8.7   \n",
       "4                              14.698           9.3  ATL       480        7.9   \n",
       "\n",
       "   AGE  EXP  POS_EST  \n",
       "0   22    0     2.75  \n",
       "1   22    0     2.99  \n",
       "2   23    2     5.00  \n",
       "3   23    2     4.88  \n",
       "4   22    1     5.00  "
      ]
     },
     "execution_count": 142,
     "metadata": {},
     "output_type": "execute_result"
    }
   ],
   "source": [
    "updated_ballhog_df = pd.merge(ballhog_df, pbp_df[['SEASON','PLAYER_NAME','TEAM_ID','POS_EST']], \n",
    "                                 on=['SEASON','PLAYER_NAME','TEAM_ID'], how='left')\n",
    "\n",
    "updated_ballhog_df.head()"
   ]
  },
  {
   "cell_type": "code",
   "execution_count": 143,
   "id": "8f6756f0-6b40-404e-9d78-1ece238a5180",
   "metadata": {
    "tags": []
   },
   "outputs": [],
   "source": [
    "name_map = dict()\n",
    "\n",
    "unused_names_df = pbp_df[~pbp_df['PLAYER_NAME'].isin(updated_ballhog_df[~updated_ballhog_df['POS_EST'].isna()]['PLAYER_NAME'].to_list())].reset_index(drop=True)\n",
    "\n",
    "for name in sorted(list(unused_names_df['PLAYER_NAME'].unique())):\n",
    "    for nba_name in updated_ballhog_df[updated_ballhog_df['POS_EST'].isna()]['PLAYER_NAME'].unique():\n",
    "        seq = difflib.SequenceMatcher(None, name, nba_name)\n",
    "        score = seq.ratio()*100\n",
    "        \n",
    "        if score > 80.0:\n",
    "            name_map[name] = nba_name"
   ]
  },
  {
   "cell_type": "code",
   "execution_count": 144,
   "id": "49a321eb-f78b-455c-9886-24a84135ea11",
   "metadata": {
    "tags": []
   },
   "outputs": [
    {
     "data": {
      "text/plain": [
       "{'A.J. Green': 'AJ Green',\n",
       " 'A.J. Hammons': 'AJ Hammons',\n",
       " 'Andrew White': 'Andrew White III',\n",
       " 'B.J. Johnson': 'BJ Johnson',\n",
       " 'Brian Bowen': 'Brian Bowen II',\n",
       " 'C.J. Miles': 'CJ Miles',\n",
       " 'Cameron Reynolds': 'Cam Reynolds',\n",
       " 'D.J. White': 'DJ White',\n",
       " 'Derrick Walton': 'Derrick Walton Jr.',\n",
       " 'Glen Rice Jr.': 'Glen Rice',\n",
       " 'Harry Giles': 'Harry Giles III',\n",
       " 'J.J. Hickson': 'JJ Hickson',\n",
       " 'J.J. Redick': 'JJ Redick',\n",
       " 'J.R. Smith': 'JR Smith',\n",
       " 'Jeff Dowtin': 'Jeff Dowtin Jr.',\n",
       " 'Jeff Taylor': 'Jeffery Taylor',\n",
       " 'John Butler': 'John Butler Jr.',\n",
       " \"Johnny O'Bryant\": \"Johnny O'Bryant III\",\n",
       " 'K.J. McDaniels': 'KJ McDaniels',\n",
       " 'Kevin Knox': 'Kevin Knox II',\n",
       " 'Marcus Morris': 'Marcus Morris Sr.',\n",
       " 'Melvin Frazier': 'Melvin Frazier Jr.',\n",
       " 'Mitch Creek': 'Mitchell Creek',\n",
       " 'OG Anunoby': 'O.G. Anunoby',\n",
       " 'P.J. Hairston': 'PJ Hairston',\n",
       " 'Perry Jones': 'Perry Jones III',\n",
       " 'R.J. Hunter': 'RJ Hunter',\n",
       " 'Robert Williams': 'Robert Williams III',\n",
       " 'Vince Edwards': 'Vincent Edwards',\n",
       " 'Vitor Luiz Faverani': 'Vitor Faverani',\n",
       " 'Wade Baldwin': 'Wade Baldwin IV',\n",
       " 'Xavier Tillman Sr.': 'Xavier Tillman'}"
      ]
     },
     "execution_count": 144,
     "metadata": {},
     "output_type": "execute_result"
    }
   ],
   "source": [
    "name_map"
   ]
  },
  {
   "cell_type": "code",
   "execution_count": 145,
   "id": "e58fed6b-070c-42fa-a0bb-cf81fdc65efa",
   "metadata": {
    "tags": []
   },
   "outputs": [],
   "source": [
    "identified_df = updated_ballhog_df[~updated_ballhog_df['POS_EST'].isna()].reset_index(drop=True)\n",
    "unidentified_df = updated_ballhog_df[updated_ballhog_df['POS_EST'].isna()].reset_index(drop=True).drop(columns=['POS_EST'])"
   ]
  },
  {
   "cell_type": "code",
   "execution_count": 146,
   "id": "da0d67f2-daba-4dfd-a239-6909c1070706",
   "metadata": {
    "tags": []
   },
   "outputs": [],
   "source": [
    "unidentified_df = pd.merge(unidentified_df, pbp_df[['SEASON','PLAYER_NAME','TEAM_ID','POS_EST']], \n",
    "                           on=['SEASON','PLAYER_NAME','TEAM_ID'], how='left')"
   ]
  },
  {
   "cell_type": "code",
   "execution_count": 147,
   "id": "235b6c98-69d6-4bb3-a431-e1f091291db8",
   "metadata": {
    "tags": []
   },
   "outputs": [
    {
     "name": "stdout",
     "output_type": "stream",
     "text": [
      "(5681, 13) (120, 13)\n"
     ]
    }
   ],
   "source": [
    "print(identified_df.shape, unidentified_df.shape)"
   ]
  },
  {
   "cell_type": "code",
   "execution_count": 148,
   "id": "b1eb3a52-00ef-40dd-80f6-c8276a3a4a70",
   "metadata": {
    "tags": []
   },
   "outputs": [
    {
     "data": {
      "text/html": [
       "<div>\n",
       "<style scoped>\n",
       "    .dataframe tbody tr th:only-of-type {\n",
       "        vertical-align: middle;\n",
       "    }\n",
       "\n",
       "    .dataframe tbody tr th {\n",
       "        vertical-align: top;\n",
       "    }\n",
       "\n",
       "    .dataframe thead th {\n",
       "        text-align: right;\n",
       "    }\n",
       "</style>\n",
       "<table border=\"1\" class=\"dataframe\">\n",
       "  <thead>\n",
       "    <tr style=\"text-align: right;\">\n",
       "      <th></th>\n",
       "      <th>SEASON</th>\n",
       "      <th>MINUTES_ON</th>\n",
       "      <th>PLAYER_NAME</th>\n",
       "      <th>PLAYER_ID</th>\n",
       "      <th>TEAM_ID</th>\n",
       "      <th>SECONDS_PER_POSS_OFFENSE_PLAYER_ON</th>\n",
       "      <th>TIME_OF_POSS</th>\n",
       "      <th>TEAM</th>\n",
       "      <th>OFF_POSS</th>\n",
       "      <th>BALL_HOG%</th>\n",
       "      <th>AGE</th>\n",
       "      <th>EXP</th>\n",
       "      <th>POS_EST</th>\n",
       "    </tr>\n",
       "  </thead>\n",
       "  <tbody>\n",
       "    <tr>\n",
       "      <th>0</th>\n",
       "      <td>2022-23</td>\n",
       "      <td>83</td>\n",
       "      <td>A.J. Lawson</td>\n",
       "      <td>1630639</td>\n",
       "      <td>1610612742</td>\n",
       "      <td>14.477</td>\n",
       "      <td>3.5</td>\n",
       "      <td>DAL</td>\n",
       "      <td>230</td>\n",
       "      <td>6.3</td>\n",
       "      <td>22</td>\n",
       "      <td>0</td>\n",
       "      <td>2.75</td>\n",
       "    </tr>\n",
       "    <tr>\n",
       "      <th>1</th>\n",
       "      <td>2022-23</td>\n",
       "      <td>2</td>\n",
       "      <td>A.J. Lawson</td>\n",
       "      <td>1630639</td>\n",
       "      <td>1610612750</td>\n",
       "      <td>12.000</td>\n",
       "      <td>0.0</td>\n",
       "      <td>MIN</td>\n",
       "      <td>5</td>\n",
       "      <td>0.0</td>\n",
       "      <td>22</td>\n",
       "      <td>0</td>\n",
       "      <td>2.99</td>\n",
       "    </tr>\n",
       "    <tr>\n",
       "      <th>2</th>\n",
       "      <td>2021-22</td>\n",
       "      <td>94</td>\n",
       "      <td>Bruno Fernando</td>\n",
       "      <td>1628981</td>\n",
       "      <td>1610612745</td>\n",
       "      <td>14.121</td>\n",
       "      <td>4.5</td>\n",
       "      <td>HOU</td>\n",
       "      <td>198</td>\n",
       "      <td>9.7</td>\n",
       "      <td>23</td>\n",
       "      <td>2</td>\n",
       "      <td>5.00</td>\n",
       "    </tr>\n",
       "    <tr>\n",
       "      <th>3</th>\n",
       "      <td>2021-22</td>\n",
       "      <td>58</td>\n",
       "      <td>Bruno Fernando</td>\n",
       "      <td>1628981</td>\n",
       "      <td>1610612738</td>\n",
       "      <td>13.843</td>\n",
       "      <td>2.7</td>\n",
       "      <td>BOS</td>\n",
       "      <td>134</td>\n",
       "      <td>8.7</td>\n",
       "      <td>23</td>\n",
       "      <td>2</td>\n",
       "      <td>4.88</td>\n",
       "    </tr>\n",
       "    <tr>\n",
       "      <th>4</th>\n",
       "      <td>2020-21</td>\n",
       "      <td>226</td>\n",
       "      <td>Bruno Fernando</td>\n",
       "      <td>1628981</td>\n",
       "      <td>1610612737</td>\n",
       "      <td>14.698</td>\n",
       "      <td>9.3</td>\n",
       "      <td>ATL</td>\n",
       "      <td>480</td>\n",
       "      <td>7.9</td>\n",
       "      <td>22</td>\n",
       "      <td>1</td>\n",
       "      <td>5.00</td>\n",
       "    </tr>\n",
       "  </tbody>\n",
       "</table>\n",
       "</div>"
      ],
      "text/plain": [
       "    SEASON  MINUTES_ON     PLAYER_NAME  PLAYER_ID     TEAM_ID   \n",
       "0  2022-23          83     A.J. Lawson    1630639  1610612742  \\\n",
       "1  2022-23           2     A.J. Lawson    1630639  1610612750   \n",
       "2  2021-22          94  Bruno Fernando    1628981  1610612745   \n",
       "3  2021-22          58  Bruno Fernando    1628981  1610612738   \n",
       "4  2020-21         226  Bruno Fernando    1628981  1610612737   \n",
       "\n",
       "   SECONDS_PER_POSS_OFFENSE_PLAYER_ON  TIME_OF_POSS TEAM  OFF_POSS  BALL_HOG%   \n",
       "0                              14.477           3.5  DAL       230        6.3  \\\n",
       "1                              12.000           0.0  MIN         5        0.0   \n",
       "2                              14.121           4.5  HOU       198        9.7   \n",
       "3                              13.843           2.7  BOS       134        8.7   \n",
       "4                              14.698           9.3  ATL       480        7.9   \n",
       "\n",
       "   AGE  EXP  POS_EST  \n",
       "0   22    0     2.75  \n",
       "1   22    0     2.99  \n",
       "2   23    2     5.00  \n",
       "3   23    2     4.88  \n",
       "4   22    1     5.00  "
      ]
     },
     "execution_count": 148,
     "metadata": {},
     "output_type": "execute_result"
    }
   ],
   "source": [
    "updated_ballhog_df = pd.concat([identified_df, unidentified_df]).reset_index(drop=True)\n",
    "updated_ballhog_df.head()"
   ]
  },
  {
   "cell_type": "code",
   "execution_count": 149,
   "id": "3739f461-9d36-40bf-a710-6f68f02c8f42",
   "metadata": {
    "tags": []
   },
   "outputs": [],
   "source": [
    "updated_ballhog_df.to_csv('data/ball-hog-rate/ball-hog-rates_regular_season_2013_23_w_age_exp_pos.csv', index=False)"
   ]
  }
 ],
 "metadata": {
  "kernelspec": {
   "display_name": "Python 3 (ipykernel)",
   "language": "python",
   "name": "python3"
  },
  "language_info": {
   "codemirror_mode": {
    "name": "ipython",
    "version": 3
   },
   "file_extension": ".py",
   "mimetype": "text/x-python",
   "name": "python",
   "nbconvert_exporter": "python",
   "pygments_lexer": "ipython3",
   "version": "3.11.3"
  }
 },
 "nbformat": 4,
 "nbformat_minor": 5
}
