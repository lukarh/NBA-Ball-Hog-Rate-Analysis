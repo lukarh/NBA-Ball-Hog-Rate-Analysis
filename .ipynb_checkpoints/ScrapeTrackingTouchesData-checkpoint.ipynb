{
 "cells": [
  {
   "cell_type": "code",
   "execution_count": 1,
   "id": "01c7f29d-f0df-4231-b3ef-620c5e44dfe2",
   "metadata": {
    "tags": []
   },
   "outputs": [],
   "source": [
    "import time\n",
    "import pandas as pd\n",
    "\n",
    "from tqdm import tqdm\n",
    "\n",
    "from nba_api.stats.static import players, teams\n",
    "from nba_api.stats.endpoints import leaguedashptstats"
   ]
  },
  {
   "cell_type": "code",
   "execution_count": 4,
   "id": "70925f0f-b139-492d-ac7c-b5455aae830c",
   "metadata": {
    "tags": []
   },
   "outputs": [],
   "source": [
    "def _scrape_traded_touches_totals(season_param, player_id, team, start_date='', end_date=''):\n",
    "    '''\n",
    "    returns a dataframe of length one with the total touches a player had for that team during his stint that season using the NBA API\n",
    "    '''\n",
    "    print('attempt to get data frame')\n",
    "    tracking_df = leaguedashptstats.LeagueDashPtStats(season=season_param,\n",
    "                                                      player_or_team='Player',\n",
    "                                                      pt_measure_type='Possessions',\n",
    "                                                      per_mode_simple='Totals',\n",
    "                                                      date_from_nullable=start_date,\n",
    "                                                      date_to_nullable=end_date,\n",
    "                                                     ).get_data_frames()[0]\n",
    "    p_tracking_df = tracking_df[tracking_df['PLAYER_ID'] == player_id].reset_index(drop=True)\n",
    "    print('got data frame')\n",
    "    p_tracking_df['SEASON'] = season_param\n",
    "    p_tracking_df = p_tracking_df[['PLAYER_ID','PLAYER_NAME','TEAM_ABBREVIATION','TIME_OF_POSS','TOUCHES','FRONT_CT_TOUCHES','AVG_DRIB_PER_TOUCH','SEASON']].copy()\n",
    "    p_tracking_df['TEAM_ABBREVIATION'] = team\n",
    "    return p_tracking_df\n",
    "  \n",
    "def _scrape_touches_total(season_param, filepath):\n",
    "    '''\n",
    "    returns nothing, but interacts with the NBA API and saves a dataframe of tracking/time touches possession data in a local directory\n",
    "    '''\n",
    "    tracking_df = leaguedashptstats.LeagueDashPtStats(season=season_param,\n",
    "                                                      player_or_team='Player',\n",
    "                                                      pt_measure_type='Possessions',\n",
    "                                                      per_mode_simple='Totals',\n",
    "                                                     ).get_data_frames()[0]\n",
    "    tracking_df['SEASON'] = season_param\n",
    "    tracking_df = tracking_df[['PLAYER_ID','PLAYER_NAME','TEAM_ABBREVIATION','TIME_OF_POSS','TOUCHES','FRONT_CT_TOUCHES','AVG_DRIB_PER_TOUCH','SEASON']].copy()\n",
    "    tracking_df.to_csv(filepath + '{}_touches_totals.csv'.format(season_param), index=False)\n",
    "    \n",
    "def _scrape_traded_seasonal_touches(start_year=2013, end_year=2023, filepath='data/touches/traded-totals/'):\n",
    "    '''\n",
    "    returns nothing, but saves a traded player's tracking/time touches possessions data in a local directory\n",
    "    '''\n",
    "    traded_df = pd.read_csv('data/ids/traded_players_database.csv')\n",
    "    traded_df = traded_df.head(10)\n",
    "    traded_tracking_df = pd.DataFrame()\n",
    "    \n",
    "    for pid, season, start_date, end_date in tqdm(zip(traded_df['PLAYER_ID'].to_list(), traded_df['SEASON'].to_list(),\n",
    "                                                  traded_df['START_DATE'].to_list(), traded_df['END_DATE'].to_list()\n",
    "                                                  ), total=len(traded_df)):\n",
    "        print(season, pid, team, start_date, end_date)\n",
    "        # while True:\n",
    "        #     try:\n",
    "        #         print('attempt to call function')\n",
    "        #         print(season, pid, team, start_date, end_date)\n",
    "        #         #temp_df = _scrape_traded_touches_totals(season, pid, team, start_date, end_date)\n",
    "        #         print('called function')\n",
    "        #         #traded_tracking_df = pd.concat([traded_tracking_df, temp_df]).reset_index(drop=True)\n",
    "        #         #time.sleep(0.5)\n",
    "        #         break\n",
    "        #     except:\n",
    "        #         pass\n",
    "    \n",
    "    season_param = str(start_year) + '-' + str(end_year)[2:]\n",
    "    traded_tracking_df.to_csv(filepath + '{}_traded_touches_totals.csv'.format(season_param), index=False)\n",
    "    \n",
    "def _scrape_seasonal_touches(start_year=2013, end_year=2023, filepath='data/touches/season-totals/'):\n",
    "    '''\n",
    "    returns nothing, but saves seasonal tracking/time touches possessions data in a local directory\n",
    "    '''\n",
    "    for season in tqdm(range(start_year, end_year)):\n",
    "        season_param = str(season) + '-' + str(season+1)[2:]\n",
    "        _scrape_touches_total(season_param, filepath)\n",
    "        time.sleep(.3)"
   ]
  },
  {
   "cell_type": "code",
   "execution_count": 13,
   "id": "73b39e5c-e454-4050-871a-2317eeda0c4e",
   "metadata": {
    "tags": []
   },
   "outputs": [
    {
     "name": "stderr",
     "output_type": "stream",
     "text": [
      "100%|██████████████████████████████████████████████████████████████████████████████████| 10/10 [00:17<00:00,  1.71s/it]\n"
     ]
    }
   ],
   "source": [
    "_scrape_seasonal_touches()"
   ]
  },
  {
   "cell_type": "code",
   "execution_count": 3,
   "id": "d4a4592d-bcd7-413e-92f7-9bd747bee96d",
   "metadata": {
    "tags": []
   },
   "outputs": [
    {
     "data": {
      "text/html": [
       "<div>\n",
       "<style scoped>\n",
       "    .dataframe tbody tr th:only-of-type {\n",
       "        vertical-align: middle;\n",
       "    }\n",
       "\n",
       "    .dataframe tbody tr th {\n",
       "        vertical-align: top;\n",
       "    }\n",
       "\n",
       "    .dataframe thead th {\n",
       "        text-align: right;\n",
       "    }\n",
       "</style>\n",
       "<table border=\"1\" class=\"dataframe\">\n",
       "  <thead>\n",
       "    <tr style=\"text-align: right;\">\n",
       "      <th></th>\n",
       "      <th>SEASON</th>\n",
       "      <th>PLAYER_ID</th>\n",
       "      <th>TEAM</th>\n",
       "      <th>START_DATE</th>\n",
       "      <th>END_DATE</th>\n",
       "    </tr>\n",
       "  </thead>\n",
       "  <tbody>\n",
       "    <tr>\n",
       "      <th>0</th>\n",
       "      <td>2013-14</td>\n",
       "      <td>1889</td>\n",
       "      <td>DEN</td>\n",
       "      <td>2013-10-30</td>\n",
       "      <td>2013-12-30</td>\n",
       "    </tr>\n",
       "  </tbody>\n",
       "</table>\n",
       "</div>"
      ],
      "text/plain": [
       "    SEASON  PLAYER_ID TEAM  START_DATE    END_DATE\n",
       "0  2013-14       1889  DEN  2013-10-30  2013-12-30"
      ]
     },
     "execution_count": 3,
     "metadata": {},
     "output_type": "execute_result"
    }
   ],
   "source": [
    "traded_df = pd.read_csv('data/ids/traded_players_database.csv')\n",
    "traded_df.head(1)"
   ]
  },
  {
   "cell_type": "code",
   "execution_count": null,
   "id": "8908ed11-6774-410f-84cc-e6ce688b66bd",
   "metadata": {
    "tags": []
   },
   "outputs": [
    {
     "name": "stderr",
     "output_type": "stream",
     "text": [
      "  0%|                                                                                           | 0/10 [00:00<?, ?it/s]IOPub data rate exceeded.\n",
      "The Jupyter server will temporarily stop sending output\n",
      "to the client in order to avoid crashing it.\n",
      "To change this limit, set the config variable\n",
      "`--ServerApp.iopub_data_rate_limit`.\n",
      "\n",
      "Current values:\n",
      "ServerApp.iopub_data_rate_limit=1000000.0 (bytes/sec)\n",
      "ServerApp.rate_limit_window=3.0 (secs)\n",
      "\n"
     ]
    }
   ],
   "source": [
    "_scrape_traded_seasonal_touches()"
   ]
  },
  {
   "cell_type": "code",
   "execution_count": null,
   "id": "ab041290-3c65-4d58-99d6-fbb702c0965c",
   "metadata": {},
   "outputs": [],
   "source": []
  }
 ],
 "metadata": {
  "kernelspec": {
   "display_name": "Python 3 (ipykernel)",
   "language": "python",
   "name": "python3"
  },
  "language_info": {
   "codemirror_mode": {
    "name": "ipython",
    "version": 3
   },
   "file_extension": ".py",
   "mimetype": "text/x-python",
   "name": "python",
   "nbconvert_exporter": "python",
   "pygments_lexer": "ipython3",
   "version": "3.11.3"
  }
 },
 "nbformat": 4,
 "nbformat_minor": 5
}
